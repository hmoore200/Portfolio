{
 "cells": [
  {
   "cell_type": "code",
   "execution_count": 19,
   "metadata": {},
   "outputs": [],
   "source": [
    "# Import Packages\n",
    "import pandas as pd\n",
    "import numpy as np\n",
    "# Regex\n",
    "import re\n",
    "from bs4 import BeautifulSoup\n",
    "import ssl\n",
    "import requests\n",
    "import urllib.request, urllib.parse, urllib.error"
   ]
  },
  {
   "cell_type": "code",
   "execution_count": 20,
   "metadata": {},
   "outputs": [],
   "source": [
    "# Reading the website in\n",
    "html = 'https://www.gutenberg.org/browse/scores/top'\n",
    "response = requests.get(html)\n",
    "html_content = response.content\n",
    "# html_content"
   ]
  },
  {
   "cell_type": "code",
   "execution_count": 21,
   "metadata": {},
   "outputs": [
    {
     "data": {
      "text/plain": [
       "['/',\n",
       " '/about/',\n",
       " '/about/',\n",
       " '/policy/collection_development.html',\n",
       " '/about/contact_information.html',\n",
       " '/about/background/',\n",
       " '/policy/permission.html',\n",
       " '/policy/privacy_policy.html',\n",
       " '/policy/terms_of_use.html',\n",
       " '/ebooks/',\n",
       " '/ebooks/',\n",
       " '/ebooks/bookshelf/',\n",
       " '/browse/scores/top',\n",
       " '/ebooks/offline_catalogs.html',\n",
       " '/help/',\n",
       " '/help/',\n",
       " '/help/copyright.html',\n",
       " '/help/errata.html',\n",
       " '/help/file_formats.html',\n",
       " '/help/faq.html',\n",
       " '/policy/',\n",
       " '/help/public_domain_ebook_submission.html',\n",
       " '/help/submitting_your_own_work.html',\n",
       " '/help/mobile.html',\n",
       " '/attic/',\n",
       " '/donate/',\n",
       " '/donate/',\n",
       " 'pretty-pictures',\n",
       " '#books-last1',\n",
       " '#authors-last1']"
      ]
     },
     "execution_count": 21,
     "metadata": {},
     "output_type": "execute_result"
    }
   ],
   "source": [
    "# 5. \n",
    "# info = response.content.decode(response.encoding)\n",
    "soup = BeautifulSoup(html_content,'html.parser')\n",
    "links = soup.find_all('a')\n",
    "for_links = []\n",
    "\n",
    "for links in links:\n",
    "    href = links.get('href')\n",
    "    if href:\n",
    "        for_links.append(href)\n",
    "for_links[:30]"
   ]
  },
  {
   "cell_type": "code",
   "execution_count": 22,
   "metadata": {},
   "outputs": [],
   "source": [
    "booknum = []"
   ]
  },
  {
   "cell_type": "code",
   "execution_count": 23,
   "metadata": {},
   "outputs": [],
   "source": [
    "for i in range(19,119):\n",
    "    link=for_links[i]\n",
    "    link=link.strip()\n",
    "#     Regex to get numeric digits\n",
    "    n=re.findall('[0-9]+', link)\n",
    "    if len(n)==1:\n",
    "        booknum.append(int(n[0]))"
   ]
  },
  {
   "cell_type": "code",
   "execution_count": 24,
   "metadata": {},
   "outputs": [
    {
     "name": "stdout",
     "output_type": "stream",
     "text": [
      "\n",
      "The file numbers for the top 100 ebooks on Gutenberg are shown below \n",
      "----------------------------------------------------------------------\n",
      "[1, 1, 7, 7, 30, 30, 84, 26184, 2701, 1513, 11, 1342, 2542, 64317, 100, 2641, 145, 174, 37106, 844, 1080, 1952, 25344, 43, 67979, 16389, 345, 408, 394, 5197, 6761, 2160, 6593, 5200, 76, 4085, 1259, 1260, 2554, 1400, 37539, 3207, 98, 1232, 50150, 219, 2000, 1661, 205, 1727, 75333, 75334, 23, 1184, 41445, 15399, 28054, 75331, 768, 25558, 2650, 6130, 7370, 2591, 36, 2600, 16328, 1998, 1497, 2814, 5740, 75327, 4300, 16119, 55, 46, 132, 2097, 74, 4363, 45502, 3296, 45, 11030, 27761, 19942, 42324, 34901, 135, 8800, 2148]\n"
     ]
    }
   ],
   "source": [
    "# Check File numbers\n",
    "print(\"\\nThe file numbers for the top 100 ebooks\",\\\n",
    "     \"on Gutenberg are shown below \\n\"+\"-\"*70)\n",
    "# booknum = booknum[:100]\n",
    "print(booknum)"
   ]
  },
  {
   "cell_type": "code",
   "execution_count": 25,
   "metadata": {},
   "outputs": [],
   "source": [
    "# print(soup.text[:2000])\n",
    "_1st_titles = []"
   ]
  },
  {
   "cell_type": "code",
   "execution_count": 26,
   "metadata": {},
   "outputs": [],
   "source": [
    "start_index = soup.text.splitlines().index(\"Top 100 EBooks yesterday\")\n",
    "# For loop to get ebooks from 1-100\n",
    "for i in range(100):\n",
    "    _1st_titles.append(soup.text.splitlines()[start_index+2+i])"
   ]
  },
  {
   "cell_type": "code",
   "execution_count": 27,
   "metadata": {},
   "outputs": [],
   "source": [
    "# Use regex tp get the text only from the name strings \n",
    "# and then put them into a list\n",
    "titles_1st = []\n",
    "for i in range(100):\n",
    "    id1,id2=re.match('^[a-zA-Z ]*', _1st_titles[i]).span()\n",
    "    titles_1st.append(_1st_titles[i][id1:id2])"
   ]
  },
  {
   "cell_type": "code",
   "execution_count": 28,
   "metadata": {},
   "outputs": [
    {
     "name": "stdout",
     "output_type": "stream",
     "text": [
      "Frankenstein\n",
      "Simple Sabotage Field Manual by United States\n",
      "Moby Dick\n",
      "Romeo and Juliet by William Shakespeare \n",
      "Alice\n",
      "Pride and Prejudice by Jane Austen \n",
      "A Doll\n",
      "The Great Gatsby by F\n",
      "The Complete Works of William Shakespeare by William Shakespeare \n",
      "A Room with a View by E\n",
      "Middlemarch by George Eliot \n",
      "The Picture of Dorian Gray by Oscar Wilde \n",
      "Little Women\n",
      "The Importance of Being Earnest\n",
      "A Modest Proposal by Jonathan Swift \n",
      "The Yellow Wallpaper by Charlotte Perkins Gilman \n",
      "The Scarlet Letter by Nathaniel Hawthorne \n",
      "The Strange Case of Dr\n",
      "The Blue Castle\n",
      "The Enchanted April by Elizabeth Von Arnim \n",
      "Dracula by Bram Stoker \n",
      "The Souls of Black Folk by W\n",
      "Cranford by Elizabeth Cleghorn Gaskell \n",
      "My Life \n",
      "The Adventures of Ferdinand Count Fathom \n",
      "The Expedition of Humphry Clinker by T\n",
      "History of Tom Jones\n",
      "Metamorphosis by Franz Kafka \n",
      "Adventures of Huckleberry Finn by Mark Twain \n",
      "The Adventures of Roderick Random by T\n",
      "Twenty years after by Alexandre Dumas and Auguste Maquet \n",
      "Jane Eyre\n",
      "Crime and Punishment by Fyodor Dostoyevsky \n",
      "Great Expectations by Charles Dickens \n",
      "The International Jew \n",
      "Leviathan by Thomas Hobbes \n",
      "A Tale of Two Cities by Charles Dickens \n",
      "The Prince by Niccol\n",
      "The Devil is an Ass by Ben Jonson \n",
      "Heart of Darkness by Joseph Conrad \n",
      "Don Quijote by Miguel de Cervantes Saavedra \n",
      "The Adventures of Sherlock Holmes by Arthur Conan Doyle \n",
      "Walden\n",
      "The Odyssey by Homer \n",
      "On dreams by Sigmund Freud \n",
      "The girls by Edna Ferber \n",
      "Narrative of the Life of Frederick Douglass\n",
      "The Count of Monte Cristo by Alexandre Dumas and Auguste Maquet \n",
      "Frankenstein\n",
      "The Interesting Narrative of the Life of Olaudah Equiano\n",
      "The Brothers Karamazov by Fyodor Dostoyevsky \n",
      "The fireside story book by Maria Edgeworth \n",
      "Wuthering Heights by Emily Bront\n",
      "\n",
      "Du c\n",
      "The Iliad by Homer \n",
      "Second Treatise of Government by John Locke \n",
      "Grimms\n",
      "The War of the Worlds by H\n",
      "War and Peace by graf Leo Tolstoy \n",
      "Beowulf\n",
      "Thus Spake Zarathustra\n",
      "The Republic by Plato \n",
      "Dubliners by James Joyce \n",
      "Tractatus Logico\n",
      "The world of the great forest \n",
      "Ulysses by James Joyce \n",
      "Doctrina Christiana \n",
      "The Wonderful Wizard of Oz by L\n",
      "A Christmas Carol in Prose\n",
      "The Art of War by active \n",
      "The Sign of the Four by Arthur Conan Doyle \n",
      "The Adventures of Tom Sawyer\n",
      "Beyond Good and Evil by Friedrich Wilhelm Nietzsche \n",
      "How the Other Half Lives\n",
      "The Confessions of St\n",
      "Anne of Green Gables by L\n",
      "Incidents in the Life of a Slave Girl\n",
      "Hamlet\n",
      "Candide by Voltaire \n",
      "Frankenstein\n",
      "On Liberty by John Stuart Mill \n",
      "Les Mis\n",
      "The divine comedy by Dante Alighieri \n",
      "The Works of Edgar Allan Poe \n",
      "Noli Me Tangere by Jos\n",
      "White Nights and Other Stories by Fyodor Dostoyevsky \n",
      "The Legend of Sleepy Hollow by Washington Irving \n",
      "Le Morte d\n",
      "Don Quixote by Miguel de Cervantes Saavedra \n",
      "A few secrets of the metallurgist simply told by Gerald W\n",
      "Plays by Susan Glaspell \n",
      "The Tragical History of Doctor Faustus by Christopher Marlowe \n",
      "The Romance of Lust\n",
      "A Study in Scarlet by Arthur Conan Doyle \n",
      "Little Women by Louisa May Alcott \n",
      "The Hound of the Baskervilles by Arthur Conan Doyle \n",
      "Emma by Jane Austen \n",
      "Autobiography of Benjamin Franklin by Benjamin Franklin \n",
      "Anna Karenina by graf Leo Tolstoy \n"
     ]
    }
   ],
   "source": [
    "# print list of titles\n",
    "for l in titles_1st:\n",
    "    print(l)"
   ]
  },
  {
   "cell_type": "code",
   "execution_count": 29,
   "metadata": {},
   "outputs": [],
   "source": [
    "#  Activity 7.02"
   ]
  },
  {
   "cell_type": "code",
   "execution_count": 30,
   "metadata": {},
   "outputs": [],
   "source": [
    "import json\n",
    "import os\n",
    "\n",
    "api_key = os.environ.get('API_Key')\n",
    "params = {\"f01281d\" : api_key}"
   ]
  },
  {
   "cell_type": "code",
   "execution_count": 31,
   "metadata": {},
   "outputs": [],
   "source": [
    "# Open the APIkeys \n",
    "with open('APIkeys.json') as f:\n",
    "    keys = json.load(f)\n",
    "\n",
    "omdbapi = keys['OMDBapi']"
   ]
  },
  {
   "cell_type": "code",
   "execution_count": 32,
   "metadata": {},
   "outputs": [],
   "source": [
    "# Defining the URL and adding the API\n",
    "serviceurl = \"http://www.omdbapi.com/?\"\n",
    "apikey = '&apikey='+omdbapi\n",
    "# print(apikey)"
   ]
  },
  {
   "cell_type": "code",
   "execution_count": 33,
   "metadata": {},
   "outputs": [],
   "source": [
    "def print_json(json_data):\n",
    "    list_keys = ['Title', 'Year', 'Rated', 'Released',\n",
    "                 'Runtime', 'Genre', 'Director', 'Writer', \n",
    "                 'Actors', 'Plot', 'Language', 'Country', \n",
    "                 'Awards', 'Ratings','Metascore', 'imdbRating', \n",
    "                 'imdbVotes', 'imdbID']\n",
    "    print(\"-\"*50)\n",
    "    for k in list_keys:\n",
    "        if k in list(json_data.keys()):\n",
    "            print(f\"{k}: {json_data[k]}\")\n",
    "    print(\"-\"*50)"
   ]
  },
  {
   "cell_type": "code",
   "execution_count": 34,
   "metadata": {},
   "outputs": [],
   "source": [
    "# def save_poster(json_data):\n",
    "#     import os\n",
    "#     title = json_data['Title']\n",
    "#     poster_url = json_data['Poster']\n",
    "#     poster_file_extension=poster_url.split('.')[-1]\n",
    "#     # Reads the image file from web\n",
    "#     poster_data = urllib.request.urlopen(poster_url).read()\n",
    "    \n",
    "#     savelocation=os.getcwd()+'\\\\'+'Posters'+'\\\\'\n",
    "#     \"\"\"Creates new directory if the directory does not exist.Otherwise, just use the existing path.\"\"\"\n",
    "#     if not os.path.isdir(savelocation):\n",
    "#         os.mkdir(savelocation)\n",
    "#         filename=savelocation+str(title)\n",
    "#         +'.'+poster_file_extension\n",
    "#     f=open(filename,'wb')\n",
    "#     f.write(poster_data)\n",
    "#     f.close()"
   ]
  },
  {
   "cell_type": "code",
   "execution_count": 35,
   "metadata": {},
   "outputs": [],
   "source": [
    "def search_movie(title):\n",
    "    try:\n",
    "        url = serviceurl + urllib.parse.urlencode({'t':str(title)})+apikey\n",
    "        print(f'Retrieving the data of \"{title}\" now... ')\n",
    "        print(url)\n",
    "        uh = urllib.request.urlopen(url)\n",
    "        data = uh.read()\n",
    "        json_data=json.loads(data)\n",
    "        if json_data['Response']=='True':\n",
    "            print_json(json_data)\n",
    "#             if json_data['Poster'] != 'N/A':\n",
    "#                 save_poster(json_data)\n",
    "#             else:\n",
    "#                 print(\"Error\")\n",
    "    except urllib.error.URLError as e:\n",
    "        print(f\"Error: {e.reason}\")\n",
    "            "
   ]
  },
  {
   "cell_type": "code",
   "execution_count": 36,
   "metadata": {},
   "outputs": [
    {
     "name": "stdout",
     "output_type": "stream",
     "text": [
      "Retrieving the data of \"Titanic\" now... \n",
      "http://www.omdbapi.com/?t=Titanic&apikey=f01281d\n",
      "--------------------------------------------------\n",
      "Title: Titanic\n",
      "Year: 1997\n",
      "Rated: PG-13\n",
      "Released: 19 Dec 1997\n",
      "Runtime: 194 min\n",
      "Genre: Drama, Romance\n",
      "Director: James Cameron\n",
      "Writer: James Cameron\n",
      "Actors: Leonardo DiCaprio, Kate Winslet, Billy Zane\n",
      "Plot: A seventeen-year-old aristocrat falls in love with a kind but poor artist aboard the luxurious, ill-fated R.M.S. Titanic.\n",
      "Language: English, Swedish, Italian, French\n",
      "Country: United States, Mexico\n",
      "Awards: Won 11 Oscars. 126 wins & 83 nominations total\n",
      "Ratings: [{'Source': 'Internet Movie Database', 'Value': '7.9/10'}, {'Source': 'Rotten Tomatoes', 'Value': '88%'}, {'Source': 'Metacritic', 'Value': '75/100'}]\n",
      "Metascore: 75\n",
      "imdbRating: 7.9\n",
      "imdbVotes: 1,322,762\n",
      "imdbID: tt0120338\n",
      "--------------------------------------------------\n"
     ]
    }
   ],
   "source": [
    "# Test the search_movie\n",
    "search_movie(\"Titanic\")"
   ]
  },
  {
   "cell_type": "markdown",
   "metadata": {},
   "source": [
    "# 3: Connect to an API and do a simple data pull"
   ]
  },
  {
   "cell_type": "markdown",
   "metadata": {},
   "source": [
    "## This API pull comes from the Nasa website it will give a description and link to the Astronomy Picture of the Day. "
   ]
  },
  {
   "cell_type": "code",
   "execution_count": 37,
   "metadata": {},
   "outputs": [],
   "source": [
    "import requests\n",
    "nasa_api =\"9MBOcqkfCDFv1xjgkRvy2xNf3B7flcEatLE8kNc2\"\n",
    "nasa_url = f\"https://api.nasa.gov/planetary/apod?api_key={nasa_api}\""
   ]
  },
  {
   "cell_type": "code",
   "execution_count": 38,
   "metadata": {},
   "outputs": [
    {
     "name": "stdout",
     "output_type": "stream",
     "text": [
      "Title: The Spider and the Fly\n",
      "Explanation: Will the spider ever catch the fly? Not if both are large emission nebulas toward the constellation of the Charioteer (Auriga).  The spider-shaped gas cloud in the image center is actually an emission nebula labelled IC 417, while the smaller fly-shaped cloud on the left is dubbed  NGC 1931 and is both an emission nebula and a reflection nebula.  About 10,000 light-years distant, both nebulas harbor young star clusters. For scale, the more compact NGC 1931 (Fly) is about 10 light-years across. The featured deep image, captured over 20 hours during late January in Berkshire UK, also shows more diffuse and red-glowing interstellar gas and dust.   Explore Your Universe: Random APOD Generator\n",
      "Image URL: https://apod.nasa.gov/apod/image/2502/SpiderFly_Boddington_1080.jpg\n"
     ]
    }
   ],
   "source": [
    "response = requests.get(nasa_url)\n",
    "data = response.json()\n",
    "# print(data)\n",
    "print(f\"Title: {data['title']}\")\n",
    "print(f\"Explanation: {data['explanation']}\")\n",
    "print(f\"Image URL: {data['url']}\")"
   ]
  },
  {
   "cell_type": "markdown",
   "metadata": {},
   "source": [
    "# 4: Creating Visualizations"
   ]
  },
  {
   "cell_type": "markdown",
   "metadata": {},
   "source": [
    "## # This data describes all of the attributes of wine as well as a quality rating. I will be using this dataset to create my plots. \n"
   ]
  },
  {
   "cell_type": "code",
   "execution_count": 39,
   "metadata": {},
   "outputs": [
    {
     "data": {
      "text/html": [
       "<div>\n",
       "<style scoped>\n",
       "    .dataframe tbody tr th:only-of-type {\n",
       "        vertical-align: middle;\n",
       "    }\n",
       "\n",
       "    .dataframe tbody tr th {\n",
       "        vertical-align: top;\n",
       "    }\n",
       "\n",
       "    .dataframe thead th {\n",
       "        text-align: right;\n",
       "    }\n",
       "</style>\n",
       "<table border=\"1\" class=\"dataframe\">\n",
       "  <thead>\n",
       "    <tr style=\"text-align: right;\">\n",
       "      <th></th>\n",
       "      <th>fixed_acidity</th>\n",
       "      <th>volatile_acidity</th>\n",
       "      <th>citric_acid</th>\n",
       "      <th>residual_sugar</th>\n",
       "      <th>chlorides</th>\n",
       "      <th>free_sulfur_dioxide</th>\n",
       "      <th>total_sulfur_dioxide</th>\n",
       "      <th>density</th>\n",
       "      <th>pH</th>\n",
       "      <th>sulphates</th>\n",
       "      <th>alcohol</th>\n",
       "      <th>quality</th>\n",
       "      <th>Id</th>\n",
       "    </tr>\n",
       "  </thead>\n",
       "  <tbody>\n",
       "    <tr>\n",
       "      <td>0</td>\n",
       "      <td>7.4</td>\n",
       "      <td>0.700</td>\n",
       "      <td>0.00</td>\n",
       "      <td>1.9</td>\n",
       "      <td>0.076</td>\n",
       "      <td>11.0</td>\n",
       "      <td>34.0</td>\n",
       "      <td>0.99780</td>\n",
       "      <td>3.51</td>\n",
       "      <td>0.56</td>\n",
       "      <td>9.4</td>\n",
       "      <td>5</td>\n",
       "      <td>0</td>\n",
       "    </tr>\n",
       "    <tr>\n",
       "      <td>1</td>\n",
       "      <td>7.8</td>\n",
       "      <td>0.880</td>\n",
       "      <td>0.00</td>\n",
       "      <td>2.6</td>\n",
       "      <td>0.098</td>\n",
       "      <td>25.0</td>\n",
       "      <td>67.0</td>\n",
       "      <td>0.99680</td>\n",
       "      <td>3.20</td>\n",
       "      <td>0.68</td>\n",
       "      <td>9.8</td>\n",
       "      <td>5</td>\n",
       "      <td>1</td>\n",
       "    </tr>\n",
       "    <tr>\n",
       "      <td>2</td>\n",
       "      <td>7.8</td>\n",
       "      <td>0.760</td>\n",
       "      <td>0.04</td>\n",
       "      <td>2.3</td>\n",
       "      <td>0.092</td>\n",
       "      <td>15.0</td>\n",
       "      <td>54.0</td>\n",
       "      <td>0.99700</td>\n",
       "      <td>3.26</td>\n",
       "      <td>0.65</td>\n",
       "      <td>9.8</td>\n",
       "      <td>5</td>\n",
       "      <td>2</td>\n",
       "    </tr>\n",
       "    <tr>\n",
       "      <td>3</td>\n",
       "      <td>11.2</td>\n",
       "      <td>0.280</td>\n",
       "      <td>0.56</td>\n",
       "      <td>1.9</td>\n",
       "      <td>0.075</td>\n",
       "      <td>17.0</td>\n",
       "      <td>60.0</td>\n",
       "      <td>0.99800</td>\n",
       "      <td>3.16</td>\n",
       "      <td>0.58</td>\n",
       "      <td>9.8</td>\n",
       "      <td>6</td>\n",
       "      <td>3</td>\n",
       "    </tr>\n",
       "    <tr>\n",
       "      <td>4</td>\n",
       "      <td>7.4</td>\n",
       "      <td>0.700</td>\n",
       "      <td>0.00</td>\n",
       "      <td>1.9</td>\n",
       "      <td>0.076</td>\n",
       "      <td>11.0</td>\n",
       "      <td>34.0</td>\n",
       "      <td>0.99780</td>\n",
       "      <td>3.51</td>\n",
       "      <td>0.56</td>\n",
       "      <td>9.4</td>\n",
       "      <td>5</td>\n",
       "      <td>4</td>\n",
       "    </tr>\n",
       "    <tr>\n",
       "      <td>...</td>\n",
       "      <td>...</td>\n",
       "      <td>...</td>\n",
       "      <td>...</td>\n",
       "      <td>...</td>\n",
       "      <td>...</td>\n",
       "      <td>...</td>\n",
       "      <td>...</td>\n",
       "      <td>...</td>\n",
       "      <td>...</td>\n",
       "      <td>...</td>\n",
       "      <td>...</td>\n",
       "      <td>...</td>\n",
       "      <td>...</td>\n",
       "    </tr>\n",
       "    <tr>\n",
       "      <td>1138</td>\n",
       "      <td>6.3</td>\n",
       "      <td>0.510</td>\n",
       "      <td>0.13</td>\n",
       "      <td>2.3</td>\n",
       "      <td>0.076</td>\n",
       "      <td>29.0</td>\n",
       "      <td>40.0</td>\n",
       "      <td>0.99574</td>\n",
       "      <td>3.42</td>\n",
       "      <td>0.75</td>\n",
       "      <td>11.0</td>\n",
       "      <td>6</td>\n",
       "      <td>1592</td>\n",
       "    </tr>\n",
       "    <tr>\n",
       "      <td>1139</td>\n",
       "      <td>6.8</td>\n",
       "      <td>0.620</td>\n",
       "      <td>0.08</td>\n",
       "      <td>1.9</td>\n",
       "      <td>0.068</td>\n",
       "      <td>28.0</td>\n",
       "      <td>38.0</td>\n",
       "      <td>0.99651</td>\n",
       "      <td>3.42</td>\n",
       "      <td>0.82</td>\n",
       "      <td>9.5</td>\n",
       "      <td>6</td>\n",
       "      <td>1593</td>\n",
       "    </tr>\n",
       "    <tr>\n",
       "      <td>1140</td>\n",
       "      <td>6.2</td>\n",
       "      <td>0.600</td>\n",
       "      <td>0.08</td>\n",
       "      <td>2.0</td>\n",
       "      <td>0.090</td>\n",
       "      <td>32.0</td>\n",
       "      <td>44.0</td>\n",
       "      <td>0.99490</td>\n",
       "      <td>3.45</td>\n",
       "      <td>0.58</td>\n",
       "      <td>10.5</td>\n",
       "      <td>5</td>\n",
       "      <td>1594</td>\n",
       "    </tr>\n",
       "    <tr>\n",
       "      <td>1141</td>\n",
       "      <td>5.9</td>\n",
       "      <td>0.550</td>\n",
       "      <td>0.10</td>\n",
       "      <td>2.2</td>\n",
       "      <td>0.062</td>\n",
       "      <td>39.0</td>\n",
       "      <td>51.0</td>\n",
       "      <td>0.99512</td>\n",
       "      <td>3.52</td>\n",
       "      <td>0.76</td>\n",
       "      <td>11.2</td>\n",
       "      <td>6</td>\n",
       "      <td>1595</td>\n",
       "    </tr>\n",
       "    <tr>\n",
       "      <td>1142</td>\n",
       "      <td>5.9</td>\n",
       "      <td>0.645</td>\n",
       "      <td>0.12</td>\n",
       "      <td>2.0</td>\n",
       "      <td>0.075</td>\n",
       "      <td>32.0</td>\n",
       "      <td>44.0</td>\n",
       "      <td>0.99547</td>\n",
       "      <td>3.57</td>\n",
       "      <td>0.71</td>\n",
       "      <td>10.2</td>\n",
       "      <td>5</td>\n",
       "      <td>1597</td>\n",
       "    </tr>\n",
       "  </tbody>\n",
       "</table>\n",
       "<p>1143 rows × 13 columns</p>\n",
       "</div>"
      ],
      "text/plain": [
       "      fixed_acidity  volatile_acidity  citric_acid  residual_sugar  chlorides  \\\n",
       "0               7.4             0.700         0.00             1.9      0.076   \n",
       "1               7.8             0.880         0.00             2.6      0.098   \n",
       "2               7.8             0.760         0.04             2.3      0.092   \n",
       "3              11.2             0.280         0.56             1.9      0.075   \n",
       "4               7.4             0.700         0.00             1.9      0.076   \n",
       "...             ...               ...          ...             ...        ...   \n",
       "1138            6.3             0.510         0.13             2.3      0.076   \n",
       "1139            6.8             0.620         0.08             1.9      0.068   \n",
       "1140            6.2             0.600         0.08             2.0      0.090   \n",
       "1141            5.9             0.550         0.10             2.2      0.062   \n",
       "1142            5.9             0.645         0.12             2.0      0.075   \n",
       "\n",
       "      free_sulfur_dioxide  total_sulfur_dioxide  density    pH  sulphates  \\\n",
       "0                    11.0                  34.0  0.99780  3.51       0.56   \n",
       "1                    25.0                  67.0  0.99680  3.20       0.68   \n",
       "2                    15.0                  54.0  0.99700  3.26       0.65   \n",
       "3                    17.0                  60.0  0.99800  3.16       0.58   \n",
       "4                    11.0                  34.0  0.99780  3.51       0.56   \n",
       "...                   ...                   ...      ...   ...        ...   \n",
       "1138                 29.0                  40.0  0.99574  3.42       0.75   \n",
       "1139                 28.0                  38.0  0.99651  3.42       0.82   \n",
       "1140                 32.0                  44.0  0.99490  3.45       0.58   \n",
       "1141                 39.0                  51.0  0.99512  3.52       0.76   \n",
       "1142                 32.0                  44.0  0.99547  3.57       0.71   \n",
       "\n",
       "      alcohol  quality    Id  \n",
       "0         9.4        5     0  \n",
       "1         9.8        5     1  \n",
       "2         9.8        5     2  \n",
       "3         9.8        6     3  \n",
       "4         9.4        5     4  \n",
       "...       ...      ...   ...  \n",
       "1138     11.0        6  1592  \n",
       "1139      9.5        6  1593  \n",
       "1140     10.5        5  1594  \n",
       "1141     11.2        6  1595  \n",
       "1142     10.2        5  1597  \n",
       "\n",
       "[1143 rows x 13 columns]"
      ]
     },
     "execution_count": 39,
     "metadata": {},
     "output_type": "execute_result"
    }
   ],
   "source": [
    "import pandas as pd\n",
    "import matplotlib.pyplot as plt\n",
    "xlsheet = \"C:/Users/14027/Documents/Graduate_Schoolish/DS 500/WineQT.csv\"\n",
    "df1 = pd.read_csv(xlsheet)\n",
    "# replace spaces with _\n",
    "df1.columns = df1.columns.str.replace(' ', '_')\n",
    "df1"
   ]
  },
  {
   "cell_type": "markdown",
   "metadata": {},
   "source": [
    "# Line Plot: pH Balance "
   ]
  },
  {
   "cell_type": "code",
   "execution_count": 40,
   "metadata": {},
   "outputs": [
    {
     "data": {
      "text/plain": [
       "Text(0, 0.5, 'pH Balance')"
      ]
     },
     "execution_count": 40,
     "metadata": {},
     "output_type": "execute_result"
    },
    {
     "data": {
      "image/png": "[encoded data removed]",
      "text/plain": [
       "<Figure size 432x288 with 1 Axes>"
      ]
     },
     "metadata": {
      "needs_background": "light"
     },
     "output_type": "display_data"
    }
   ],
   "source": [
    "plt.plot(df1['pH'])\n",
    "plt.title(\"pH Balance\")\n",
    "plt.xlabel(\"Total Number of Wines\")\n",
    "plt.ylabel(\"pH Balance\")"
   ]
  },
  {
   "cell_type": "markdown",
   "metadata": {},
   "source": [
    "# Bar Plot: quality vs residual sugar"
   ]
  },
  {
   "cell_type": "code",
   "execution_count": 41,
   "metadata": {},
   "outputs": [
    {
     "data": {
      "text/plain": [
       "Text(0, 0.5, 'Residual Sugar')"
      ]
     },
     "execution_count": 41,
     "metadata": {},
     "output_type": "execute_result"
    },
    {
     "data": {
      "image/png": "[encoded data removed]",
      "text/plain": [
       "<Figure size 432x288 with 1 Axes>"
      ]
     },
     "metadata": {
      "needs_background": "light"
     },
     "output_type": "display_data"
    }
   ],
   "source": [
    "plt.bar(df1['quality'],df1['residual_sugar'])\n",
    "plt.title(\"Quality vs. Residual Sugar\")\n",
    "plt.xlabel(\"Quality\")\n",
    "plt.ylabel(\"Residual Sugar\")"
   ]
  },
  {
   "cell_type": "markdown",
   "metadata": {},
   "source": [
    "# Histogram: Alcohol Content"
   ]
  },
  {
   "cell_type": "code",
   "execution_count": 42,
   "metadata": {},
   "outputs": [
    {
     "data": {
      "text/plain": [
       "Text(0, 0.5, 'Total Number of Wines')"
      ]
     },
     "execution_count": 42,
     "metadata": {},
     "output_type": "execute_result"
    },
    {
     "data": {
      "image/png": "[encoded data removed]",
      "text/plain": [
       "<Figure size 432x288 with 1 Axes>"
      ]
     },
     "metadata": {
      "needs_background": "light"
     },
     "output_type": "display_data"
    }
   ],
   "source": [
    "plt.hist(df1['alcohol'], bins=10)\n",
    "plt.title(\"Histogram: Alcohol Content\")\n",
    "plt.xlabel(\"Alcohol Percentage\")\n",
    "plt.ylabel(\"Total Number of Wines\")"
   ]
  }
 ],
 "metadata": {
  "kernelspec": {
   "display_name": "Python 3",
   "language": "python",
   "name": "python3"
  },
  "language_info": {
   "codemirror_mode": {
    "name": "ipython",
    "version": 3
   },
   "file_extension": ".py",
   "mimetype": "text/x-python",
   "name": "python",
   "nbconvert_exporter": "python",
   "pygments_lexer": "ipython3",
   "version": "3.7.4"
  }
 },
 "nbformat": 4,
 "nbformat_minor": 2
}
