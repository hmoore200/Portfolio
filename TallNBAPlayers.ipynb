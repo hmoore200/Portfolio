{
 "cells": [
  {
   "cell_type": "code",
   "execution_count": 12,
   "metadata": {},
   "outputs": [],
   "source": [
    "#Packages\n",
    "import pandas as pd\n",
    "import numpy as np\n",
    "import matplotlib.pyplot as plt\n",
    "import thinkstats2\n",
    "import nsfg\n",
    "import scipy.stats \n",
    "from scipy.stats import pearsonr\n",
    "import thinkplot"
   ]
  },
  {
   "cell_type": "code",
   "execution_count": 13,
   "metadata": {},
   "outputs": [
    {
     "data": {
      "text/html": [
       "<div>\n",
       "<style scoped>\n",
       "    .dataframe tbody tr th:only-of-type {\n",
       "        vertical-align: middle;\n",
       "    }\n",
       "\n",
       "    .dataframe tbody tr th {\n",
       "        vertical-align: top;\n",
       "    }\n",
       "\n",
       "    .dataframe thead th {\n",
       "        text-align: right;\n",
       "    }\n",
       "</style>\n",
       "<table border=\"1\" class=\"dataframe\">\n",
       "  <thead>\n",
       "    <tr style=\"text-align: right;\">\n",
       "      <th></th>\n",
       "      <th>Player</th>\n",
       "      <th>From</th>\n",
       "      <th>To</th>\n",
       "      <th>Years</th>\n",
       "      <th>Pos</th>\n",
       "      <th>Ht</th>\n",
       "      <th>Height</th>\n",
       "      <th>Wt</th>\n",
       "      <th>G</th>\n",
       "      <th>PTS</th>\n",
       "      <th>...</th>\n",
       "      <th>Sixth Man</th>\n",
       "      <th>DPOY</th>\n",
       "      <th>ROY</th>\n",
       "      <th>AS MVP</th>\n",
       "      <th>CF MVP</th>\n",
       "      <th>Finals MVP</th>\n",
       "      <th>MVP</th>\n",
       "      <th>Championships</th>\n",
       "      <th>NBA 75 Team</th>\n",
       "      <th>ABA All-Time Team</th>\n",
       "    </tr>\n",
       "  </thead>\n",
       "  <tbody>\n",
       "    <tr>\n",
       "      <td>0</td>\n",
       "      <td>Alaa Abdelnaby</td>\n",
       "      <td>1991</td>\n",
       "      <td>1995</td>\n",
       "      <td>5</td>\n",
       "      <td>F-C</td>\n",
       "      <td>6-10</td>\n",
       "      <td>6.833333</td>\n",
       "      <td>240.0</td>\n",
       "      <td>256</td>\n",
       "      <td>5.7</td>\n",
       "      <td>...</td>\n",
       "      <td>0</td>\n",
       "      <td>0</td>\n",
       "      <td>0</td>\n",
       "      <td>0</td>\n",
       "      <td>0</td>\n",
       "      <td>0</td>\n",
       "      <td>0</td>\n",
       "      <td>0</td>\n",
       "      <td>0</td>\n",
       "      <td>0</td>\n",
       "    </tr>\n",
       "    <tr>\n",
       "      <td>1</td>\n",
       "      <td>Zaid Abdul-Aziz</td>\n",
       "      <td>1969</td>\n",
       "      <td>1978</td>\n",
       "      <td>10</td>\n",
       "      <td>F-C</td>\n",
       "      <td>6-9</td>\n",
       "      <td>6.750000</td>\n",
       "      <td>235.0</td>\n",
       "      <td>505</td>\n",
       "      <td>9.0</td>\n",
       "      <td>...</td>\n",
       "      <td>0</td>\n",
       "      <td>0</td>\n",
       "      <td>0</td>\n",
       "      <td>0</td>\n",
       "      <td>0</td>\n",
       "      <td>0</td>\n",
       "      <td>0</td>\n",
       "      <td>0</td>\n",
       "      <td>0</td>\n",
       "      <td>0</td>\n",
       "    </tr>\n",
       "    <tr>\n",
       "      <td>2</td>\n",
       "      <td>Kareem Abdul-Jabbar*</td>\n",
       "      <td>1970</td>\n",
       "      <td>1989</td>\n",
       "      <td>20</td>\n",
       "      <td>C</td>\n",
       "      <td>7-2</td>\n",
       "      <td>7.166667</td>\n",
       "      <td>225.0</td>\n",
       "      <td>1560</td>\n",
       "      <td>24.6</td>\n",
       "      <td>...</td>\n",
       "      <td>0</td>\n",
       "      <td>0</td>\n",
       "      <td>1</td>\n",
       "      <td>0</td>\n",
       "      <td>0</td>\n",
       "      <td>2</td>\n",
       "      <td>6</td>\n",
       "      <td>6</td>\n",
       "      <td>1</td>\n",
       "      <td>0</td>\n",
       "    </tr>\n",
       "    <tr>\n",
       "      <td>3</td>\n",
       "      <td>Mahmoud Abdul-Rauf</td>\n",
       "      <td>1991</td>\n",
       "      <td>2001</td>\n",
       "      <td>11</td>\n",
       "      <td>G</td>\n",
       "      <td>6-1</td>\n",
       "      <td>6.083333</td>\n",
       "      <td>162.0</td>\n",
       "      <td>586</td>\n",
       "      <td>14.6</td>\n",
       "      <td>...</td>\n",
       "      <td>0</td>\n",
       "      <td>0</td>\n",
       "      <td>0</td>\n",
       "      <td>0</td>\n",
       "      <td>0</td>\n",
       "      <td>0</td>\n",
       "      <td>0</td>\n",
       "      <td>0</td>\n",
       "      <td>0</td>\n",
       "      <td>0</td>\n",
       "    </tr>\n",
       "    <tr>\n",
       "      <td>4</td>\n",
       "      <td>Tariq Abdul-Wahad</td>\n",
       "      <td>1998</td>\n",
       "      <td>2003</td>\n",
       "      <td>6</td>\n",
       "      <td>F</td>\n",
       "      <td>6-6</td>\n",
       "      <td>6.500000</td>\n",
       "      <td>223.0</td>\n",
       "      <td>236</td>\n",
       "      <td>7.8</td>\n",
       "      <td>...</td>\n",
       "      <td>0</td>\n",
       "      <td>0</td>\n",
       "      <td>0</td>\n",
       "      <td>0</td>\n",
       "      <td>0</td>\n",
       "      <td>0</td>\n",
       "      <td>0</td>\n",
       "      <td>0</td>\n",
       "      <td>0</td>\n",
       "      <td>0</td>\n",
       "    </tr>\n",
       "    <tr>\n",
       "      <td>...</td>\n",
       "      <td>...</td>\n",
       "      <td>...</td>\n",
       "      <td>...</td>\n",
       "      <td>...</td>\n",
       "      <td>...</td>\n",
       "      <td>...</td>\n",
       "      <td>...</td>\n",
       "      <td>...</td>\n",
       "      <td>...</td>\n",
       "      <td>...</td>\n",
       "      <td>...</td>\n",
       "      <td>...</td>\n",
       "      <td>...</td>\n",
       "      <td>...</td>\n",
       "      <td>...</td>\n",
       "      <td>...</td>\n",
       "      <td>...</td>\n",
       "      <td>...</td>\n",
       "      <td>...</td>\n",
       "      <td>...</td>\n",
       "      <td>...</td>\n",
       "    </tr>\n",
       "    <tr>\n",
       "      <td>5018</td>\n",
       "      <td>Ante Žižić</td>\n",
       "      <td>2018</td>\n",
       "      <td>2020</td>\n",
       "      <td>3</td>\n",
       "      <td>F-C</td>\n",
       "      <td>6-10</td>\n",
       "      <td>6.833333</td>\n",
       "      <td>266.0</td>\n",
       "      <td>113</td>\n",
       "      <td>6.0</td>\n",
       "      <td>...</td>\n",
       "      <td>0</td>\n",
       "      <td>0</td>\n",
       "      <td>0</td>\n",
       "      <td>0</td>\n",
       "      <td>0</td>\n",
       "      <td>0</td>\n",
       "      <td>0</td>\n",
       "      <td>0</td>\n",
       "      <td>0</td>\n",
       "      <td>0</td>\n",
       "    </tr>\n",
       "    <tr>\n",
       "      <td>5019</td>\n",
       "      <td>Jim Zoet</td>\n",
       "      <td>1983</td>\n",
       "      <td>1983</td>\n",
       "      <td>1</td>\n",
       "      <td>C</td>\n",
       "      <td>7-1</td>\n",
       "      <td>7.083333</td>\n",
       "      <td>240.0</td>\n",
       "      <td>7</td>\n",
       "      <td>0.3</td>\n",
       "      <td>...</td>\n",
       "      <td>0</td>\n",
       "      <td>0</td>\n",
       "      <td>0</td>\n",
       "      <td>0</td>\n",
       "      <td>0</td>\n",
       "      <td>0</td>\n",
       "      <td>0</td>\n",
       "      <td>0</td>\n",
       "      <td>0</td>\n",
       "      <td>0</td>\n",
       "    </tr>\n",
       "    <tr>\n",
       "      <td>5020</td>\n",
       "      <td>Bill Zopf</td>\n",
       "      <td>1971</td>\n",
       "      <td>1971</td>\n",
       "      <td>1</td>\n",
       "      <td>G</td>\n",
       "      <td>6-1</td>\n",
       "      <td>6.083333</td>\n",
       "      <td>170.0</td>\n",
       "      <td>53</td>\n",
       "      <td>2.2</td>\n",
       "      <td>...</td>\n",
       "      <td>0</td>\n",
       "      <td>0</td>\n",
       "      <td>0</td>\n",
       "      <td>0</td>\n",
       "      <td>0</td>\n",
       "      <td>0</td>\n",
       "      <td>0</td>\n",
       "      <td>0</td>\n",
       "      <td>0</td>\n",
       "      <td>0</td>\n",
       "    </tr>\n",
       "    <tr>\n",
       "      <td>5021</td>\n",
       "      <td>Ivica Zubac</td>\n",
       "      <td>2017</td>\n",
       "      <td>2022</td>\n",
       "      <td>6</td>\n",
       "      <td>C</td>\n",
       "      <td>7-0</td>\n",
       "      <td>7.000000</td>\n",
       "      <td>240.0</td>\n",
       "      <td>360</td>\n",
       "      <td>8.3</td>\n",
       "      <td>...</td>\n",
       "      <td>0</td>\n",
       "      <td>0</td>\n",
       "      <td>0</td>\n",
       "      <td>0</td>\n",
       "      <td>0</td>\n",
       "      <td>0</td>\n",
       "      <td>0</td>\n",
       "      <td>0</td>\n",
       "      <td>0</td>\n",
       "      <td>0</td>\n",
       "    </tr>\n",
       "    <tr>\n",
       "      <td>5022</td>\n",
       "      <td>Matt Zunic</td>\n",
       "      <td>1949</td>\n",
       "      <td>1949</td>\n",
       "      <td>1</td>\n",
       "      <td>G-F</td>\n",
       "      <td>6-3</td>\n",
       "      <td>6.250000</td>\n",
       "      <td>195.0</td>\n",
       "      <td>56</td>\n",
       "      <td>4.9</td>\n",
       "      <td>...</td>\n",
       "      <td>0</td>\n",
       "      <td>0</td>\n",
       "      <td>0</td>\n",
       "      <td>0</td>\n",
       "      <td>0</td>\n",
       "      <td>0</td>\n",
       "      <td>0</td>\n",
       "      <td>0</td>\n",
       "      <td>0</td>\n",
       "      <td>0</td>\n",
       "    </tr>\n",
       "  </tbody>\n",
       "</table>\n",
       "<p>5023 rows × 39 columns</p>\n",
       "</div>"
      ],
      "text/plain": [
       "                    Player  From    To  Years  Pos    Ht    Height     Wt  \\\n",
       "0           Alaa Abdelnaby  1991  1995      5  F-C  6-10  6.833333  240.0   \n",
       "1          Zaid Abdul-Aziz  1969  1978     10  F-C   6-9  6.750000  235.0   \n",
       "2     Kareem Abdul-Jabbar*  1970  1989     20    C   7-2  7.166667  225.0   \n",
       "3       Mahmoud Abdul-Rauf  1991  2001     11    G   6-1  6.083333  162.0   \n",
       "4        Tariq Abdul-Wahad  1998  2003      6    F   6-6  6.500000  223.0   \n",
       "...                    ...   ...   ...    ...  ...   ...       ...    ...   \n",
       "5018            Ante Žižić  2018  2020      3  F-C  6-10  6.833333  266.0   \n",
       "5019              Jim Zoet  1983  1983      1    C   7-1  7.083333  240.0   \n",
       "5020             Bill Zopf  1971  1971      1    G   6-1  6.083333  170.0   \n",
       "5021           Ivica Zubac  2017  2022      6    C   7-0  7.000000  240.0   \n",
       "5022            Matt Zunic  1949  1949      1  G-F   6-3  6.250000  195.0   \n",
       "\n",
       "         G   PTS  ...  Sixth Man  DPOY  ROY  AS MVP  CF MVP  Finals MVP  MVP  \\\n",
       "0      256   5.7  ...          0     0    0       0       0           0    0   \n",
       "1      505   9.0  ...          0     0    0       0       0           0    0   \n",
       "2     1560  24.6  ...          0     0    1       0       0           2    6   \n",
       "3      586  14.6  ...          0     0    0       0       0           0    0   \n",
       "4      236   7.8  ...          0     0    0       0       0           0    0   \n",
       "...    ...   ...  ...        ...   ...  ...     ...     ...         ...  ...   \n",
       "5018   113   6.0  ...          0     0    0       0       0           0    0   \n",
       "5019     7   0.3  ...          0     0    0       0       0           0    0   \n",
       "5020    53   2.2  ...          0     0    0       0       0           0    0   \n",
       "5021   360   8.3  ...          0     0    0       0       0           0    0   \n",
       "5022    56   4.9  ...          0     0    0       0       0           0    0   \n",
       "\n",
       "      Championships  NBA 75 Team  ABA All-Time Team  \n",
       "0                 0            0                  0  \n",
       "1                 0            0                  0  \n",
       "2                 6            1                  0  \n",
       "3                 0            0                  0  \n",
       "4                 0            0                  0  \n",
       "...             ...          ...                ...  \n",
       "5018              0            0                  0  \n",
       "5019              0            0                  0  \n",
       "5020              0            0                  0  \n",
       "5021              0            0                  0  \n",
       "5022              0            0                  0  \n",
       "\n",
       "[5023 rows x 39 columns]"
      ]
     },
     "execution_count": 13,
     "metadata": {},
     "output_type": "execute_result"
    }
   ],
   "source": [
    "# Importing the Dataset\n",
    "path = \"C:/Users/14027/Documents/Graduate_Schoolish/DSC_530/Term_Project/archive/NBA_players_clean.csv\"\n",
    "nba = pd.read_csv(path)\n",
    "nba"
   ]
  },
  {
   "cell_type": "code",
   "execution_count": 14,
   "metadata": {},
   "outputs": [],
   "source": [
    "#Standardize column names: lower and replace spaces with _\n",
    "nba.columns = nba.columns.str.replace(\" \", \"_\")\n",
    "nba.columns = nba.columns.str.lower()\n",
    "#Clean for NBA 2000 and above\n",
    "nba = nba[nba['from'] >= 2000]\n",
    "#Grouping data for 6'8 and above (Tallest players)\n",
    "nba = nba[nba['height'] > 6.7]\n",
    "# nba\n"
   ]
  },
  {
   "cell_type": "code",
   "execution_count": 15,
   "metadata": {},
   "outputs": [],
   "source": [
    "# Chapter 2 Histogram and Describe on the data"
   ]
  },
  {
   "cell_type": "code",
   "execution_count": 16,
   "metadata": {},
   "outputs": [
    {
     "name": "stdout",
     "output_type": "stream",
     "text": [
      "             player  from    to  years pos   ht  height     wt  g  pts  ...  \\\n",
      "1556    Trey Gilder  2010  2010      1   F  6-9    6.75  185.0  2  1.0  ...   \n",
      "1956    Steven Hill  2009  2009      1   C  7-0    7.00  248.0  1  2.0  ...   \n",
      "1979  Randy Holcomb  2006  2006      1   F  6-9    6.75  225.0  4  0.5  ...   \n",
      "\n",
      "      sixth_man  dpoy  roy  as_mvp  cf_mvp  finals_mvp  mvp  championships  \\\n",
      "1556          0     0    0       0       0           0    0              0   \n",
      "1956          0     0    0       0       0           0    0              0   \n",
      "1979          0     0    0       0       0           0    0              0   \n",
      "\n",
      "      nba_75_team  aba_all-time_team  \n",
      "1556            0                  0  \n",
      "1956            0                  0  \n",
      "1979            0                  0  \n",
      "\n",
      "[3 rows x 39 columns]\n",
      "                        player  from    to  years  pos    ht    height     wt  \\\n",
      "111   Martynas Andriuškevičius  2006  2006      1    C   7-2  7.166667  240.0   \n",
      "326               Keith Benson  2012  2012      1    C  6-11  6.916667  240.0   \n",
      "328                 Ben Bentil  2017  2017      1    F   6-9  6.750000  235.0   \n",
      "1032               Tyler Davis  2019  2019      1    C  6-10  6.833333  266.0   \n",
      "2046                  Jay Huff  2022  2022      1  F-C   7-1  7.083333  240.0   \n",
      "2085                 Mile Ilić  2007  2007      1    C   7-1  7.083333  230.0   \n",
      "2516          Arnoldas Kulboka  2022  2022      1    F   6-9  6.750000  198.0   \n",
      "2755               Will Magnay  2021  2021      1    C  6-10  6.833333  234.0   \n",
      "3555           Pavel Podkolzin  2005  2006      2    C   7-5  7.416667  260.0   \n",
      "4374                 Jon Teske  2022  2022      1    C   7-1  7.083333  265.0   \n",
      "4588             Slavko Vraneš  2004  2004      1    C   7-5  7.416667  275.0   \n",
      "4694                David Wear  2015  2015      1    F  6-10  6.833333  230.0   \n",
      "\n",
      "      g  pts  ...  sixth_man  dpoy  roy  as_mvp  cf_mvp  finals_mvp  mvp  \\\n",
      "111   6  0.0  ...          0     0    0       0       0           0    0   \n",
      "326   3  0.0  ...          0     0    0       0       0           0    0   \n",
      "328   3  0.0  ...          0     0    0       0       0           0    0   \n",
      "1032  1  0.0  ...          0     0    0       0       0           0    0   \n",
      "2046  4  0.0  ...          0     0    0       0       0           0    0   \n",
      "2085  5  0.0  ...          0     0    0       0       0           0    0   \n",
      "2516  2  0.0  ...          0     0    0       0       0           0    0   \n",
      "2755  1  0.0  ...          0     0    0       0       0           0    0   \n",
      "3555  6  0.7  ...          0     0    0       0       0           0    0   \n",
      "4374  3  0.0  ...          0     0    0       0       0           0    0   \n",
      "4588  1  0.0  ...          0     0    0       0       0           0    0   \n",
      "4694  2  0.0  ...          0     0    0       0       0           0    0   \n",
      "\n",
      "      championships  nba_75_team  aba_all-time_team  \n",
      "111               0            0                  0  \n",
      "326               0            0                  0  \n",
      "328               0            0                  0  \n",
      "1032              0            0                  0  \n",
      "2046              0            0                  0  \n",
      "2085              0            0                  0  \n",
      "2516              0            0                  0  \n",
      "2755              0            0                  0  \n",
      "3555              0            0                  0  \n",
      "4374              0            0                  0  \n",
      "4588              0            0                  0  \n",
      "4694              0            0                  0  \n",
      "\n",
      "[12 rows x 39 columns]\n"
     ]
    },
    {
     "data": {
      "text/plain": [
       "count    621.000000\n",
       "mean      48.157005\n",
       "std       11.563742\n",
       "min        0.000000\n",
       "25%       44.500000\n",
       "50%       49.900000\n",
       "75%       53.700000\n",
       "max      100.000000\n",
       "Name: efg_percent, dtype: float64"
      ]
     },
     "execution_count": 16,
     "metadata": {},
     "output_type": "execute_result"
    },
    {
     "data": {
      "image/png": "[encoded data removed]",
      "text/plain": [
       "<Figure size 432x288 with 1 Axes>"
      ]
     },
     "metadata": {
      "needs_background": "light"
     },
     "output_type": "display_data"
    }
   ],
   "source": [
    "#Creating Histograms for each of the 5 important variables: eFG%:career average effective field goal percentage; \n",
    "# To see how well a player or team shoots the ball, \n",
    "# we look at field goal percentage (shots made divided by shots attempted).\n",
    "# However, it is better to use effective field goal percentage since it takes into account the added value of the 3-point shot.\n",
    "# Since those shots are more difficult, they are given added value in evaluating shooting skills: 40-50% considered good\n",
    "\n",
    "print(nba[nba['efg%'] == nba['efg%'].max()])\n",
    "print(nba[nba['efg%'] == nba['efg%'].min()])\n",
    "\n",
    "nba.rename(columns={'efg%': 'efg_percent'}, inplace=True)\n",
    "plt.hist(nba['efg_percent'])\n",
    "plt.xlabel('eFG%')\n",
    "plt.ylabel('Frequency')\n",
    "plt.title('Histogram of Values')\n",
    "#plt.show()\n",
    "# Summary Statistics\n",
    "# Mean, Mode, Spread, and Tails \n",
    "nba['efg_percent'].describe()"
   ]
  },
  {
   "cell_type": "code",
   "execution_count": 17,
   "metadata": {},
   "outputs": [
    {
     "data": {
      "image/png": "[encoded data removed]",
      "text/plain": [
       "<Figure size 432x288 with 1 Axes>"
      ]
     },
     "metadata": {
      "needs_background": "light"
     },
     "output_type": "display_data"
    },
    {
     "data": {
      "text/plain": [
       "count    621.000000\n",
       "mean       5.639614\n",
       "std        4.539207\n",
       "min        0.000000\n",
       "25%        2.300000\n",
       "50%        4.400000\n",
       "75%        7.600000\n",
       "max       27.200000\n",
       "Name: pts, dtype: float64"
      ]
     },
     "execution_count": 17,
     "metadata": {},
     "output_type": "execute_result"
    }
   ],
   "source": [
    "#Creating Histograms for each of the 5 important variables: PTS\n",
    "# print(nba[nba['efg%'] == nba['efg%'].max()])\n",
    "# print(nba[nba['efg%'] == nba['efg%'].min()])\n",
    "\n",
    "plt.hist(nba['pts'])\n",
    "plt.xlabel('Career Avg Pts/Game')\n",
    "plt.ylabel('Frequency')\n",
    "plt.title('Histogram of Values')\n",
    "plt.show()\n",
    "nba['pts'].describe()"
   ]
  },
  {
   "cell_type": "code",
   "execution_count": 18,
   "metadata": {},
   "outputs": [
    {
     "data": {
      "image/png": "[encoded data removed]",
      "text/plain": [
       "<Figure size 432x288 with 1 Axes>"
      ]
     },
     "metadata": {
      "needs_background": "light"
     },
     "output_type": "display_data"
    },
    {
     "data": {
      "text/plain": [
       "count    621.000000\n",
       "mean       3.634622\n",
       "std        2.363986\n",
       "min        0.000000\n",
       "25%        1.900000\n",
       "50%        3.100000\n",
       "75%        4.800000\n",
       "max       13.300000\n",
       "Name: trb, dtype: float64"
      ]
     },
     "execution_count": 18,
     "metadata": {},
     "output_type": "execute_result"
    }
   ],
   "source": [
    "#Creating Histograms for each of the 5 important variables: rebounds\n",
    "plt.hist(nba['trb'])\n",
    "plt.xlabel('Career Average Rebounds/Game')\n",
    "plt.ylabel('Frequency')\n",
    "plt.title('Histogram of Values')\n",
    "plt.show()\n",
    "nba['trb'].describe()"
   ]
  },
  {
   "cell_type": "code",
   "execution_count": 32,
   "metadata": {},
   "outputs": [
    {
     "name": "stdout",
     "output_type": "stream",
     "text": [
      "            player  from    to  years  pos   ht  height     wt     g   pts  \\\n",
      "2155  LeBron James  2004  2022     19  G-F  6-9    6.75  250.0  1366  27.1   \n",
      "\n",
      "      ...  sixth_man  dpoy  roy  as_mvp  cf_mvp  finals_mvp  mvp  \\\n",
      "2155  ...          0     0    1       3       0           4    4   \n",
      "\n",
      "      championships  nba_75_team  aba_all-time_team  \n",
      "2155              4            1                  0  \n",
      "\n",
      "[1 rows x 39 columns]\n"
     ]
    },
    {
     "data": {
      "image/png": "[encoded data removed]",
      "text/plain": [
       "<Figure size 432x288 with 1 Axes>"
      ]
     },
     "metadata": {
      "needs_background": "light"
     },
     "output_type": "display_data"
    },
    {
     "data": {
      "text/plain": [
       "count    621.000000\n",
       "mean       0.169082\n",
       "std        1.080059\n",
       "min        0.000000\n",
       "25%        0.000000\n",
       "50%        0.000000\n",
       "75%        0.000000\n",
       "max       18.000000\n",
       "Name: all_nba, dtype: float64"
      ]
     },
     "execution_count": 32,
     "metadata": {},
     "output_type": "execute_result"
    }
   ],
   "source": [
    "#Creating Histograms for each of the 5 important variables: All-Team\n",
    "print(nba[nba['all_nba'] == nba['all_nba'].max()])\n",
    "plt.hist(nba['all_nba'])\n",
    "plt.xlabel('All-NBA Team Apperances')\n",
    "plt.ylabel('Frequency')\n",
    "plt.title('Histogram of Values')\n",
    "plt.show()\n",
    "nba['all_nba'].describe()"
   ]
  },
  {
   "cell_type": "code",
   "execution_count": 33,
   "metadata": {},
   "outputs": [
    {
     "name": "stdout",
     "output_type": "stream",
     "text": [
      "           player  from    to  years pos   ht  height     wt  g  pts  ...  \\\n",
      "1956  Steven Hill  2009  2009      1   C  7-0     7.0  248.0  1  2.0  ...   \n",
      "\n",
      "      sixth_man  dpoy  roy  as_mvp  cf_mvp  finals_mvp  mvp  championships  \\\n",
      "1956          0     0    0       0       0           0    0              0   \n",
      "\n",
      "      nba_75_team  aba_all-time_team  \n",
      "1956            0                  0  \n",
      "\n",
      "[1 rows x 39 columns]\n",
      "         player  from    to  years pos   ht    height     wt  g  pts  ...  \\\n",
      "2085  Mile Ilić  2007  2007      1   C  7-1  7.083333  230.0  5  0.0  ...   \n",
      "\n",
      "      sixth_man  dpoy  roy  as_mvp  cf_mvp  finals_mvp  mvp  championships  \\\n",
      "2085          0     0    0       0       0           0    0              0   \n",
      "\n",
      "      nba_75_team  aba_all-time_team  \n",
      "2085            0                  0  \n",
      "\n",
      "[1 rows x 39 columns]\n"
     ]
    },
    {
     "data": {
      "image/png": "[encoded data removed]",
      "text/plain": [
       "<Figure size 432x288 with 1 Axes>"
      ]
     },
     "metadata": {
      "needs_background": "light"
     },
     "output_type": "display_data"
    },
    {
     "data": {
      "text/plain": [
       "count    621.000000\n",
       "mean      12.349758\n",
       "std        7.327277\n",
       "min      -48.600000\n",
       "25%        9.900000\n",
       "50%       12.800000\n",
       "75%       15.900000\n",
       "max       88.300000\n",
       "Name: per, dtype: float64"
      ]
     },
     "execution_count": 33,
     "metadata": {},
     "output_type": "execute_result"
    }
   ],
   "source": [
    "#Creating Histograms for each of the 5 important variables:PER\n",
    "print(nba[nba['per'] == nba['per'].max()])\n",
    "print(nba[nba['per'] == nba['per'].min()])\n",
    "plt.hist(nba['per'])\n",
    "plt.xlabel('Player Efficency Rating')\n",
    "plt.ylabel('Frequency')\n",
    "plt.title('Histogram of Values')\n",
    "plt.show()\n",
    "nba['per'].describe()"
   ]
  },
  {
   "cell_type": "code",
   "execution_count": 21,
   "metadata": {},
   "outputs": [],
   "source": [
    "# Chapter 3\n",
    "import nsfg\n",
    "import first\n",
    "import thinkstats2\n",
    "import thinkplot\n",
    "import numpy as np\n",
    "import pandas as pd\n",
    "import matplotlib.pyplot as plt"
   ]
  },
  {
   "cell_type": "code",
   "execution_count": 34,
   "metadata": {},
   "outputs": [
    {
     "data": {
      "image/png": "[encoded data removed]",
      "text/plain": [
       "<Figure size 720x432 with 1 Axes>"
      ]
     },
     "metadata": {
      "needs_background": "light"
     },
     "output_type": "display_data"
    }
   ],
   "source": [
    "#Create a plot based on a filter (Chapter 3) Part 1:\n",
    "#Seperating base on championships won vs no championships\n",
    "champs = nba[nba['championships'] > 0]\n",
    "no_champs = nba[nba['championships'] == 0]\n",
    "#Groupd the columns for the histogram for the avg point amounts\n",
    "group1 = champs['pts']\n",
    "group2 = no_champs['pts']\n",
    "#Create the graphs\n",
    "# Create a figure and axes\n",
    "# Note that there are way less taller nba players with \n",
    "plt.figure(figsize=(10, 6))\n",
    "plt.hist(group1, bins = 15,alpha=0.7, label = \"Championships\",edgecolor='blue') #\n",
    "plt.hist(group2, bins = 15, alpha=0.4, label = \"No Championship\",edgecolor='red')\n",
    "plt.xlabel('Average Points per Game')\n",
    "plt.ylabel('Frequency')\n",
    "plt.title('Comparing Average Points by Championship')\n",
    "plt.legend(loc='upper right')\n",
    "plt.grid(axis='y', alpha=0.75)\n",
    "plt.show()"
   ]
  },
  {
   "cell_type": "code",
   "execution_count": 23,
   "metadata": {},
   "outputs": [
    {
     "data": {
      "image/png": "[encoded data removed]",
      "text/plain": [
       "<Figure size 720x432 with 1 Axes>"
      ]
     },
     "metadata": {
      "needs_background": "light"
     },
     "output_type": "display_data"
    }
   ],
   "source": [
    "#Create a plot based on a filter (Chapter 3) Part2: Years Played vs efg\n",
    "#Year played\n",
    "long_car = nba[nba['years'] > 5]\n",
    "short_car = nba[nba['years'] <5]\n",
    "#Groupd the columns for the histogram for the avg point amounts\n",
    "group1 = long_car['efg_percent']\n",
    "group2 = short_car['efg_percent']\n",
    "#Create the graphs\n",
    "# Create a figure and axes\n",
    "# Note that the average NBA career length: 4.8 years \n",
    "plt.figure(figsize=(10, 6))\n",
    "plt.hist(group1, bins = 15,alpha=0.7, label = \"Long Careers\",edgecolor='blue') \n",
    "plt.hist(group2, bins = 15, alpha=0.4, label = \"Short Career\",edgecolor='red')\n",
    "plt.xlabel('Effective Field Goal Percentage')\n",
    "plt.ylabel('Frequency')\n",
    "plt.title('Term Project')\n",
    "plt.legend(loc='upper right')\n",
    "plt.grid(axis='y', alpha=0.75)\n",
    "plt.show()"
   ]
  },
  {
   "cell_type": "code",
   "execution_count": 24,
   "metadata": {},
   "outputs": [],
   "source": [
    "# Chapter 4"
   ]
  },
  {
   "cell_type": "code",
   "execution_count": 25,
   "metadata": {},
   "outputs": [
    {
     "data": {
      "image/png": "[encoded data removed]",
      "text/plain": [
       "<Figure size 432x288 with 1 Axes>"
      ]
     },
     "metadata": {
      "needs_background": "light"
     },
     "output_type": "display_data"
    }
   ],
   "source": [
    "cdf = thinkstats2.Cdf(nba.per, label = 'Player per Minute Productivity')\n",
    "thinkplot.Cdf(cdf)\n",
    "thinkplot.Config(xlabel = \"Per Mintue Productivity\", ylabel = \"CDF\")\n",
    "\n",
    "# Most players have low per mintue productivity since the curve is steep\n",
    "# from 0-10. The curve flattens around 20 , which means that very few players ever\n",
    "# reach that high of productivity"
   ]
  },
  {
   "cell_type": "code",
   "execution_count": 40,
   "metadata": {},
   "outputs": [],
   "source": [
    "# Chapter 5 Plot 1 analytical distribution"
   ]
  },
  {
   "cell_type": "code",
   "execution_count": 42,
   "metadata": {},
   "outputs": [
    {
     "data": {
      "image/png": "[encoded data removed]",
      "text/plain": [
       "<Figure size 432x288 with 1 Axes>"
      ]
     },
     "metadata": {
      "needs_background": "light"
     },
     "output_type": "display_data"
    }
   ],
   "source": [
    "# Rebounds per game: Normal Probability Plot\n",
    "#Mean and Std\n",
    "reb_mean = nba.trb.mean()\n",
    "reb_std = nba.trb.std()\n",
    "\n",
    "# model line\n",
    "xs = [-3,5]\n",
    "fx, fy = thinkstats2.FitLine(xs, inter=reb_mean, slope=reb_std)\n",
    "thinkplot.Plot(fx,fy, label = 'Career Average Rebounds', color='grey')\n",
    "# Data split\n",
    "xs, ys = thinkstats2.NormalProbability(nba.trb)\n",
    "thinkplot.Plot(xs, ys, label = 'Total Career Rebounds')\n",
    "thinkplot.xlabel('Value')\n",
    "thinkplot.ylabel('Frequency')\n",
    "thinkplot.title('Histogram of Random Data')\n",
    "thinkplot.show()\n"
   ]
  },
  {
   "cell_type": "code",
   "execution_count": 48,
   "metadata": {},
   "outputs": [
    {
     "name": "stdout",
     "output_type": "stream",
     "text": [
      "0.5284618854456673\n"
     ]
    },
    {
     "data": {
      "image/png": "[encoded data removed]",
      "text/plain": [
       "<Figure size 432x288 with 1 Axes>"
      ]
     },
     "metadata": {
      "needs_background": "light"
     },
     "output_type": "display_data"
    },
    {
     "data": {
      "text/plain": [
       "<Figure size 576x432 with 0 Axes>"
      ]
     },
     "metadata": {},
     "output_type": "display_data"
    }
   ],
   "source": [
    "# Chapter 7: Create 2 Scatterplots Comparing variables\n",
    "# Create two scatter plots comparing two variables and provide your analysis on correlation and causation.\n",
    "# Remember, covariance, Pearson’s correlation, and Non-Linear Relationships should also be considered during your analysis (Chapter 7).\n",
    "# Points per Game vs Player Productivity\n",
    "\n",
    "pearson_corr = nba['pts'].corr(nba['per'])\n",
    "print(pearson_corr)\n",
    "\n",
    "thinkplot.Scatter(nba.pts, nba.per, alpha = 1)\n",
    "thinkplot.Show(xlabel = 'Points per Game',\n",
    "              ylabel = 'Player Efficiency  Rating')"
   ]
  },
  {
   "cell_type": "code",
   "execution_count": 49,
   "metadata": {},
   "outputs": [
    {
     "name": "stdout",
     "output_type": "stream",
     "text": [
      "-0.025611513114265853\n"
     ]
    },
    {
     "data": {
      "image/png": "[encoded data removed]",
      "text/plain": [
       "<Figure size 432x288 with 1 Axes>"
      ]
     },
     "metadata": {
      "needs_background": "light"
     },
     "output_type": "display_data"
    },
    {
     "data": {
      "text/plain": [
       "<Figure size 576x432 with 0 Axes>"
      ]
     },
     "metadata": {},
     "output_type": "display_data"
    }
   ],
   "source": [
    "# Scatterplot #2: Height by Years\n",
    "pearson_corr = nba['height'].corr(nba['years'])\n",
    "print(pearson_corr)\n",
    "\n",
    "thinkplot.Scatter(nba.height, nba.years, alpha = 1)\n",
    "thinkplot.Show(xlabel = 'Height of Player',\n",
    "              ylabel = 'Length of Career in Years')\n"
   ]
  },
  {
   "cell_type": "code",
   "execution_count": 30,
   "metadata": {},
   "outputs": [
    {
     "name": "stdout",
     "output_type": "stream",
     "text": [
      "Observed difference: -0.5174721257875534\n",
      "P-value: 0.1527\n"
     ]
    }
   ],
   "source": [
    "# Chapter 9: Hypothesis Testing\n",
    "# Permutation Test\n",
    "import numpy as np\n",
    "import pandas as pd\n",
    "\n",
    "# Filter the data for the positions you want to compare\n",
    "group1 = nba[nba['pos'] == 'C']['pts']\n",
    "group2 = nba[nba['pos'] == 'F']['pts']\n",
    "\n",
    "# Observed difference in means\n",
    "observed_diff = np.mean(group1) - np.mean(group2)\n",
    "\n",
    "# Combine the groups\n",
    "combined = np.concatenate([group1, group2])\n",
    "\n",
    "# Number of permutations\n",
    "num_permutations = 10000\n",
    "\n",
    "# Permutation test\n",
    "perm_diffs = []\n",
    "for _ in range(num_permutations):\n",
    "    # Shuffle the combined data\n",
    "    np.random.shuffle(combined)\n",
    "    # Split into two groups\n",
    "    perm_group1 = combined[:len(group1)]\n",
    "    perm_group2 = combined[len(group1):]\n",
    "    # Calculate the difference in means\n",
    "    perm_diff = np.mean(perm_group1) - np.mean(perm_group2)\n",
    "    perm_diffs.append(perm_diff)\n",
    "\n",
    "# Calculate the p-value\n",
    "p_value = (np.abs(perm_diffs) >= np.abs(observed_diff)).mean()\n",
    "\n",
    "print(f\"Observed difference: {observed_diff}\")\n",
    "print(f\"P-value: {p_value}\")"
   ]
  },
  {
   "cell_type": "code",
   "execution_count": 31,
   "metadata": {},
   "outputs": [
    {
     "name": "stdout",
     "output_type": "stream",
     "text": [
      "Optimization terminated successfully.\n",
      "         Current function value: 4.047821\n",
      "         Iterations 5\n"
     ]
    },
    {
     "data": {
      "text/html": [
       "<table class=\"simpletable\">\n",
       "<caption>Poisson Regression Results</caption>\n",
       "<tr>\n",
       "  <th>Dep. Variable:</th>      <td>efg_percent</td>   <th>  No. Observations:  </th>   <td>   621</td>  \n",
       "</tr>\n",
       "<tr>\n",
       "  <th>Model:</th>                <td>Poisson</td>     <th>  Df Residuals:      </th>   <td>   617</td>  \n",
       "</tr>\n",
       "<tr>\n",
       "  <th>Method:</th>                 <td>MLE</td>       <th>  Df Model:          </th>   <td>     3</td>  \n",
       "</tr>\n",
       "<tr>\n",
       "  <th>Date:</th>            <td>Wed, 26 Feb 2025</td> <th>  Pseudo R-squ.:     </th>   <td>0.1325</td>  \n",
       "</tr>\n",
       "<tr>\n",
       "  <th>Time:</th>                <td>14:03:37</td>     <th>  Log-Likelihood:    </th>  <td> -2513.7</td> \n",
       "</tr>\n",
       "<tr>\n",
       "  <th>converged:</th>             <td>True</td>       <th>  LL-Null:           </th>  <td> -2897.5</td> \n",
       "</tr>\n",
       "<tr>\n",
       "  <th>Covariance Type:</th>     <td>nonrobust</td>    <th>  LLR p-value:       </th> <td>4.494e-166</td>\n",
       "</tr>\n",
       "</table>\n",
       "<table class=\"simpletable\">\n",
       "<tr>\n",
       "      <td></td>         <th>coef</th>     <th>std err</th>      <th>z</th>      <th>P>|z|</th>  <th>[0.025</th>    <th>0.975]</th>  \n",
       "</tr>\n",
       "<tr>\n",
       "  <th>Intercept</th> <td>    3.5975</td> <td>    0.012</td> <td>  290.468</td> <td> 0.000</td> <td>    3.573</td> <td>    3.622</td>\n",
       "</tr>\n",
       "<tr>\n",
       "  <th>pts</th>       <td>   -0.0024</td> <td>    0.002</td> <td>   -1.049</td> <td> 0.294</td> <td>   -0.007</td> <td>    0.002</td>\n",
       "</tr>\n",
       "<tr>\n",
       "  <th>trb</th>       <td>    0.0125</td> <td>    0.005</td> <td>    2.722</td> <td> 0.006</td> <td>    0.003</td> <td>    0.021</td>\n",
       "</tr>\n",
       "<tr>\n",
       "  <th>per</th>       <td>    0.0189</td> <td>    0.001</td> <td>   25.619</td> <td> 0.000</td> <td>    0.017</td> <td>    0.020</td>\n",
       "</tr>\n",
       "</table>"
      ],
      "text/plain": [
       "<class 'statsmodels.iolib.summary.Summary'>\n",
       "\"\"\"\n",
       "                          Poisson Regression Results                          \n",
       "==============================================================================\n",
       "Dep. Variable:            efg_percent   No. Observations:                  621\n",
       "Model:                        Poisson   Df Residuals:                      617\n",
       "Method:                           MLE   Df Model:                            3\n",
       "Date:                Wed, 26 Feb 2025   Pseudo R-squ.:                  0.1325\n",
       "Time:                        14:03:37   Log-Likelihood:                -2513.7\n",
       "converged:                       True   LL-Null:                       -2897.5\n",
       "Covariance Type:            nonrobust   LLR p-value:                4.494e-166\n",
       "==============================================================================\n",
       "                 coef    std err          z      P>|z|      [0.025      0.975]\n",
       "------------------------------------------------------------------------------\n",
       "Intercept      3.5975      0.012    290.468      0.000       3.573       3.622\n",
       "pts           -0.0024      0.002     -1.049      0.294      -0.007       0.002\n",
       "trb            0.0125      0.005      2.722      0.006       0.003       0.021\n",
       "per            0.0189      0.001     25.619      0.000       0.017       0.020\n",
       "==============================================================================\n",
       "\"\"\""
      ]
     },
     "execution_count": 31,
     "metadata": {},
     "output_type": "execute_result"
    }
   ],
   "source": [
    "# Chapter 11: Regression\n",
    "# y =  efg_percent\n",
    "# x = pts, tbr, per\n",
    "import statsmodels.formula.api as smf\n",
    "model = smf.poisson('efg_percent ~ pts + trb + per', data = nba)\n",
    "results = model.fit()\n",
    "results.summary()"
   ]
  },
  {
   "cell_type": "code",
   "execution_count": null,
   "metadata": {},
   "outputs": [],
   "source": []
  }
 ],
 "metadata": {
  "kernelspec": {
   "display_name": "Python 3",
   "language": "python",
   "name": "python3"
  },
  "language_info": {
   "codemirror_mode": {
    "name": "ipython",
    "version": 3
   },
   "file_extension": ".py",
   "mimetype": "text/x-python",
   "name": "python",
   "nbconvert_exporter": "python",
   "pygments_lexer": "ipython3",
   "version": "3.7.4"
  }
 },
 "nbformat": 4,
 "nbformat_minor": 2
}
