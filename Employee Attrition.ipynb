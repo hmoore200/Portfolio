{
 "cells": [
  {
   "cell_type": "markdown",
   "metadata": {},
   "source": [
    "# Milestone 1"
   ]
  },
  {
   "cell_type": "markdown",
   "metadata": {},
   "source": [
    "### Loyalty plays a vital role in building a successful business. Among the various forms of loyalty, employee loyalty is arguably the most crucial, as employees are essential to maintaining day-to-day operations and driving growth. When employees feel valued and are motivated to contribute, the results can include greater innovation, higher profitability, and long-term business sustainability. For this project, I aim to examine employee attrition through a more granular lens by analyzing it at the departmental level. Each department may face unique challenges that influence employee turnover, so it is important to provide tailored recommendations that support retention in each specific area.\n",
    "\n",
    "### To achieve this, I will use employee demographic and performance data to predict attrition by department. In the dataset, attrition is labeled as either \"Yes\" or \"No,\" making this a binary classification problem. Logistic regression is well-suited for this type of analysis, as it can help identify patterns and relationships between variables that influence an employee’s decision to leave or stay.\n",
    "\n",
    "### The dataset I will be working with is sourced from Kaggle and includes 10,000 observations across 26 variables. These features include information such as department, job level, average hours worked per week, and number of projects completed. This data will serve as the foundation for the regression model and will help identify which factors most significantly contribute to attrition. By understanding these relationships, the company can focus on improving employee satisfaction in specific areas, ultimately working toward reducing turnover and fostering a more loyal and engaged workforce.\n",
    "\n"
   ]
  },
  {
   "cell_type": "code",
   "execution_count": 141,
   "metadata": {},
   "outputs": [
    {
     "data": {
      "text/html": [
       "<div>\n",
       "<style scoped>\n",
       "    .dataframe tbody tr th:only-of-type {\n",
       "        vertical-align: middle;\n",
       "    }\n",
       "\n",
       "    .dataframe tbody tr th {\n",
       "        vertical-align: top;\n",
       "    }\n",
       "\n",
       "    .dataframe thead th {\n",
       "        text-align: right;\n",
       "    }\n",
       "</style>\n",
       "<table border=\"1\" class=\"dataframe\">\n",
       "  <thead>\n",
       "    <tr style=\"text-align: right;\">\n",
       "      <th></th>\n",
       "      <th>Employee_ID</th>\n",
       "      <th>Age</th>\n",
       "      <th>Gender</th>\n",
       "      <th>Marital_Status</th>\n",
       "      <th>Department</th>\n",
       "      <th>Job_Role</th>\n",
       "      <th>Job_Level</th>\n",
       "      <th>Monthly_Income</th>\n",
       "      <th>Hourly_Rate</th>\n",
       "      <th>Years_at_Company</th>\n",
       "      <th>...</th>\n",
       "      <th>Overtime</th>\n",
       "      <th>Project_Count</th>\n",
       "      <th>Average_Hours_Worked_Per_Week</th>\n",
       "      <th>Absenteeism</th>\n",
       "      <th>Work_Environment_Satisfaction</th>\n",
       "      <th>Relationship_with_Manager</th>\n",
       "      <th>Job_Involvement</th>\n",
       "      <th>Distance_From_Home</th>\n",
       "      <th>Number_of_Companies_Worked</th>\n",
       "      <th>Attrition</th>\n",
       "    </tr>\n",
       "  </thead>\n",
       "  <tbody>\n",
       "    <tr>\n",
       "      <th>0</th>\n",
       "      <td>1</td>\n",
       "      <td>58</td>\n",
       "      <td>Male</td>\n",
       "      <td>Single</td>\n",
       "      <td>Finance</td>\n",
       "      <td>Manager</td>\n",
       "      <td>5</td>\n",
       "      <td>7332</td>\n",
       "      <td>81</td>\n",
       "      <td>24</td>\n",
       "      <td>...</td>\n",
       "      <td>No</td>\n",
       "      <td>9</td>\n",
       "      <td>48</td>\n",
       "      <td>16</td>\n",
       "      <td>4</td>\n",
       "      <td>1</td>\n",
       "      <td>1</td>\n",
       "      <td>49</td>\n",
       "      <td>3</td>\n",
       "      <td>No</td>\n",
       "    </tr>\n",
       "    <tr>\n",
       "      <th>1</th>\n",
       "      <td>2</td>\n",
       "      <td>48</td>\n",
       "      <td>Female</td>\n",
       "      <td>Divorced</td>\n",
       "      <td>HR</td>\n",
       "      <td>Assistant</td>\n",
       "      <td>4</td>\n",
       "      <td>6069</td>\n",
       "      <td>55</td>\n",
       "      <td>18</td>\n",
       "      <td>...</td>\n",
       "      <td>Yes</td>\n",
       "      <td>9</td>\n",
       "      <td>57</td>\n",
       "      <td>10</td>\n",
       "      <td>4</td>\n",
       "      <td>1</td>\n",
       "      <td>1</td>\n",
       "      <td>25</td>\n",
       "      <td>1</td>\n",
       "      <td>No</td>\n",
       "    </tr>\n",
       "    <tr>\n",
       "      <th>2</th>\n",
       "      <td>3</td>\n",
       "      <td>34</td>\n",
       "      <td>Female</td>\n",
       "      <td>Married</td>\n",
       "      <td>Marketing</td>\n",
       "      <td>Manager</td>\n",
       "      <td>4</td>\n",
       "      <td>11485</td>\n",
       "      <td>65</td>\n",
       "      <td>6</td>\n",
       "      <td>...</td>\n",
       "      <td>Yes</td>\n",
       "      <td>3</td>\n",
       "      <td>55</td>\n",
       "      <td>1</td>\n",
       "      <td>1</td>\n",
       "      <td>4</td>\n",
       "      <td>3</td>\n",
       "      <td>21</td>\n",
       "      <td>1</td>\n",
       "      <td>Yes</td>\n",
       "    </tr>\n",
       "    <tr>\n",
       "      <th>3</th>\n",
       "      <td>4</td>\n",
       "      <td>27</td>\n",
       "      <td>Female</td>\n",
       "      <td>Divorced</td>\n",
       "      <td>HR</td>\n",
       "      <td>Manager</td>\n",
       "      <td>4</td>\n",
       "      <td>18707</td>\n",
       "      <td>28</td>\n",
       "      <td>12</td>\n",
       "      <td>...</td>\n",
       "      <td>No</td>\n",
       "      <td>9</td>\n",
       "      <td>53</td>\n",
       "      <td>2</td>\n",
       "      <td>3</td>\n",
       "      <td>4</td>\n",
       "      <td>1</td>\n",
       "      <td>46</td>\n",
       "      <td>2</td>\n",
       "      <td>No</td>\n",
       "    </tr>\n",
       "    <tr>\n",
       "      <th>4</th>\n",
       "      <td>5</td>\n",
       "      <td>40</td>\n",
       "      <td>Male</td>\n",
       "      <td>Married</td>\n",
       "      <td>HR</td>\n",
       "      <td>Analyst</td>\n",
       "      <td>1</td>\n",
       "      <td>16398</td>\n",
       "      <td>92</td>\n",
       "      <td>3</td>\n",
       "      <td>...</td>\n",
       "      <td>No</td>\n",
       "      <td>1</td>\n",
       "      <td>54</td>\n",
       "      <td>11</td>\n",
       "      <td>1</td>\n",
       "      <td>1</td>\n",
       "      <td>1</td>\n",
       "      <td>43</td>\n",
       "      <td>4</td>\n",
       "      <td>No</td>\n",
       "    </tr>\n",
       "  </tbody>\n",
       "</table>\n",
       "<p>5 rows × 26 columns</p>\n",
       "</div>"
      ],
      "text/plain": [
       "   Employee_ID  Age  Gender Marital_Status Department   Job_Role  Job_Level  \\\n",
       "0            1   58    Male         Single    Finance    Manager          5   \n",
       "1            2   48  Female       Divorced         HR  Assistant          4   \n",
       "2            3   34  Female        Married  Marketing    Manager          4   \n",
       "3            4   27  Female       Divorced         HR    Manager          4   \n",
       "4            5   40    Male        Married         HR    Analyst          1   \n",
       "\n",
       "   Monthly_Income  Hourly_Rate  Years_at_Company  ...  Overtime  \\\n",
       "0            7332           81                24  ...        No   \n",
       "1            6069           55                18  ...       Yes   \n",
       "2           11485           65                 6  ...       Yes   \n",
       "3           18707           28                12  ...        No   \n",
       "4           16398           92                 3  ...        No   \n",
       "\n",
       "   Project_Count  Average_Hours_Worked_Per_Week  Absenteeism  \\\n",
       "0              9                             48           16   \n",
       "1              9                             57           10   \n",
       "2              3                             55            1   \n",
       "3              9                             53            2   \n",
       "4              1                             54           11   \n",
       "\n",
       "   Work_Environment_Satisfaction  Relationship_with_Manager Job_Involvement  \\\n",
       "0                              4                          1               1   \n",
       "1                              4                          1               1   \n",
       "2                              1                          4               3   \n",
       "3                              3                          4               1   \n",
       "4                              1                          1               1   \n",
       "\n",
       "   Distance_From_Home  Number_of_Companies_Worked  Attrition  \n",
       "0                  49                           3         No  \n",
       "1                  25                           1         No  \n",
       "2                  21                           1        Yes  \n",
       "3                  46                           2         No  \n",
       "4                  43                           4         No  \n",
       "\n",
       "[5 rows x 26 columns]"
      ]
     },
     "execution_count": 141,
     "metadata": {},
     "output_type": "execute_result"
    }
   ],
   "source": [
    "# Import packages and data\n",
    "import pandas as pd\n",
    "import numpy as np \n",
    "import matplotlib.pyplot as plt\n",
    "import seaborn as sns\n",
    "\n",
    "workers = pd.read_csv('employee_attrition.csv')\n",
    "workers.head()"
   ]
  },
  {
   "cell_type": "code",
   "execution_count": 142,
   "metadata": {},
   "outputs": [
    {
     "data": {
      "text/plain": [
       "<Figure size 720x432 with 0 Axes>"
      ]
     },
     "execution_count": 142,
     "metadata": {},
     "output_type": "execute_result"
    },
    {
     "data": {
      "image/png": "[encoded data removed]",
      "text/plain": [
       "<Figure size 432x288 with 1 Axes>"
      ]
     },
     "metadata": {
      "needs_background": "light"
     },
     "output_type": "display_data"
    },
    {
     "data": {
      "text/plain": [
       "<Figure size 720x432 with 0 Axes>"
      ]
     },
     "metadata": {},
     "output_type": "display_data"
    }
   ],
   "source": [
    "# Graph 1: Employee spead of the departments\n",
    "workers['Amount'] = 1\n",
    "g1 = workers.groupby('Department', as_index=False)['Amount'].sum()\n",
    "plt.bar(g1['Department'], g1['Amount'])\n",
    "plt.xlabel('Department')\n",
    "plt.ylabel('# of People in Department')\n",
    "plt.title('Total Number of People in Each Department')\n",
    "plt.figure(figsize=(10,6)) "
   ]
  },
  {
   "cell_type": "markdown",
   "metadata": {},
   "source": [
    "### This graph showcases how many people are in each department of the company. There are a total of 10,000 employees in this company and this gives us an idea of the spread of the company. This is just a base graph to see what the people in the company look like. "
   ]
  },
  {
   "cell_type": "code",
   "execution_count": 143,
   "metadata": {},
   "outputs": [
    {
     "data": {
      "image/png": "[encoded data removed]",
      "text/plain": [
       "<Figure size 432x288 with 1 Axes>"
      ]
     },
     "metadata": {
      "needs_background": "light"
     },
     "output_type": "display_data"
    },
    {
     "data": {
      "text/plain": [
       "<Figure size 720x432 with 0 Axes>"
      ]
     },
     "metadata": {},
     "output_type": "display_data"
    }
   ],
   "source": [
    "#G2:Monthly Income by Department\n",
    "import seaborn as sns\n",
    "sns.boxplot(data = workers,x=\"Department\",y=\"Monthly_Income\")\n",
    "plt.title('Monthly Income by Department')\n",
    "plt.xlabel('Department')\n",
    "plt.ylabel('Monthly Income')\n",
    "plt.figure(figsize=(10,6)) \n",
    "plt.show()"
   ]
  },
  {
   "cell_type": "markdown",
   "metadata": {},
   "source": [
    "### This graph tells us what the employees in each department make in each quartile. From this graph we know that the Marketing and Sales employees have the lowestmonthly income on average and in most of the quartiles. This helps gives me something to investage as the monthly income differs a bit. "
   ]
  },
  {
   "cell_type": "code",
   "execution_count": 144,
   "metadata": {},
   "outputs": [
    {
     "name": "stderr",
     "output_type": "stream",
     "text": [
      "C:\\Users\\14027\\OneDrive\\Attachments\\lib\\site-packages\\matplotlib\\cbook\\__init__.py:1402: FutureWarning: Support for multi-dimensional indexing (e.g. `obj[:, None]`) is deprecated and will be removed in a future version.  Convert to a numpy array before indexing instead.\n",
      "  x[:, None]\n",
      "C:\\Users\\14027\\OneDrive\\Attachments\\lib\\site-packages\\matplotlib\\axes\\_base.py:276: FutureWarning: Support for multi-dimensional indexing (e.g. `obj[:, None]`) is deprecated and will be removed in a future version.  Convert to a numpy array before indexing instead.\n",
      "  x = x[:, np.newaxis]\n",
      "C:\\Users\\14027\\OneDrive\\Attachments\\lib\\site-packages\\matplotlib\\axes\\_base.py:278: FutureWarning: Support for multi-dimensional indexing (e.g. `obj[:, None]`) is deprecated and will be removed in a future version.  Convert to a numpy array before indexing instead.\n",
      "  y = y[:, np.newaxis]\n"
     ]
    },
    {
     "data": {
      "image/png": "[encoded data removed]",
      "text/plain": [
       "<Figure size 432x288 with 1 Axes>"
      ]
     },
     "metadata": {
      "needs_background": "light"
     },
     "output_type": "display_data"
    },
    {
     "data": {
      "text/plain": [
       "<Figure size 720x432 with 0 Axes>"
      ]
     },
     "metadata": {},
     "output_type": "display_data"
    }
   ],
   "source": [
    "#G3: Average hours worked per wwke by job level\n",
    "sns.histplot(workers['Average_Hours_Worked_Per_Week'],kde=True)\n",
    "plt.title('Distribution of Average Number of Hours Work')\n",
    "plt.xlabel('Average # of Hours Worked')\n",
    "plt.ylabel('Frequency')\n",
    "plt.figure(figsize=(10,6)) \n",
    "plt.show()"
   ]
  },
  {
   "cell_type": "markdown",
   "metadata": {},
   "source": [
    "### This graph shows the average number of hours for all of the employees. This gives an idea of how much time the workers are spending on doing work related content. Here we can see majority of the workers in this company are putting in more than 40 hours a week on work. This tells me that it is really common for everyone to over work a bit is probably not a reason employees attrite. "
   ]
  },
  {
   "cell_type": "code",
   "execution_count": 145,
   "metadata": {},
   "outputs": [
    {
     "data": {
      "image/png": "[encoded data removed]",
      "text/plain": [
       "<Figure size 432x288 with 1 Axes>"
      ]
     },
     "metadata": {
      "needs_background": "light"
     },
     "output_type": "display_data"
    },
    {
     "data": {
      "text/plain": [
       "<Figure size 720x432 with 0 Axes>"
      ]
     },
     "metadata": {},
     "output_type": "display_data"
    }
   ],
   "source": [
    "#G4:Satistfaction histogram\n",
    "g1 = workers.groupby('Relationship_with_Manager', as_index=False)['Amount'].sum()\n",
    "plt.plot(g1['Relationship_with_Manager'], g1['Amount'])\n",
    "plt.title('Overview on the Employees Relationship with their Manager')\n",
    "plt.xlabel('Relationship Level')\n",
    "length = 4\n",
    "xmarks=[i for i in range(1,length+1,1)]\n",
    "plt.xticks(xmarks)\n",
    "plt.ylabel('Frequency')\n",
    "plt.figure(figsize=(10,6)) \n",
    "plt.show()"
   ]
  },
  {
   "cell_type": "markdown",
   "metadata": {},
   "source": [
    "### This graph shows how the employees feel about their realtionship with their manager. From this graph, we can see that most people feel okay about their relationship with their manager. This could be something to look into becuase if there are not good relationship between the leadership and their subordinates then it could be a reason for attrition. "
   ]
  },
  {
   "cell_type": "markdown",
   "metadata": {},
   "source": [
    "# Milestone 2"
   ]
  },
  {
   "cell_type": "markdown",
   "metadata": {},
   "source": [
    "###  The first step I took was to check for null values and fill them in if nesscessary. Luckily, there were no null values which made my life a bit eaiser. Then I plan to drop the Empolyee ID since it adds no value in the binary regression and could create incorrect results. "
   ]
  },
  {
   "cell_type": "code",
   "execution_count": 146,
   "metadata": {},
   "outputs": [
    {
     "data": {
      "text/html": [
       "<div>\n",
       "<style scoped>\n",
       "    .dataframe tbody tr th:only-of-type {\n",
       "        vertical-align: middle;\n",
       "    }\n",
       "\n",
       "    .dataframe tbody tr th {\n",
       "        vertical-align: top;\n",
       "    }\n",
       "\n",
       "    .dataframe thead th {\n",
       "        text-align: right;\n",
       "    }\n",
       "</style>\n",
       "<table border=\"1\" class=\"dataframe\">\n",
       "  <thead>\n",
       "    <tr style=\"text-align: right;\">\n",
       "      <th></th>\n",
       "      <th>Age</th>\n",
       "      <th>Gender</th>\n",
       "      <th>Marital_Status</th>\n",
       "      <th>Department</th>\n",
       "      <th>Job_Role</th>\n",
       "      <th>Job_Level</th>\n",
       "      <th>Monthly_Income</th>\n",
       "      <th>Hourly_Rate</th>\n",
       "      <th>Years_at_Company</th>\n",
       "      <th>Years_in_Current_Role</th>\n",
       "      <th>...</th>\n",
       "      <th>Project_Count</th>\n",
       "      <th>Average_Hours_Worked_Per_Week</th>\n",
       "      <th>Absenteeism</th>\n",
       "      <th>Work_Environment_Satisfaction</th>\n",
       "      <th>Relationship_with_Manager</th>\n",
       "      <th>Job_Involvement</th>\n",
       "      <th>Distance_From_Home</th>\n",
       "      <th>Number_of_Companies_Worked</th>\n",
       "      <th>Attrition</th>\n",
       "      <th>Amount</th>\n",
       "    </tr>\n",
       "  </thead>\n",
       "  <tbody>\n",
       "    <tr>\n",
       "      <th>0</th>\n",
       "      <td>58</td>\n",
       "      <td>Male</td>\n",
       "      <td>Single</td>\n",
       "      <td>Finance</td>\n",
       "      <td>Manager</td>\n",
       "      <td>5</td>\n",
       "      <td>7332</td>\n",
       "      <td>81</td>\n",
       "      <td>24</td>\n",
       "      <td>12</td>\n",
       "      <td>...</td>\n",
       "      <td>9</td>\n",
       "      <td>48</td>\n",
       "      <td>16</td>\n",
       "      <td>4</td>\n",
       "      <td>1</td>\n",
       "      <td>1</td>\n",
       "      <td>49</td>\n",
       "      <td>3</td>\n",
       "      <td>No</td>\n",
       "      <td>1</td>\n",
       "    </tr>\n",
       "    <tr>\n",
       "      <th>1</th>\n",
       "      <td>48</td>\n",
       "      <td>Female</td>\n",
       "      <td>Divorced</td>\n",
       "      <td>HR</td>\n",
       "      <td>Assistant</td>\n",
       "      <td>4</td>\n",
       "      <td>6069</td>\n",
       "      <td>55</td>\n",
       "      <td>18</td>\n",
       "      <td>7</td>\n",
       "      <td>...</td>\n",
       "      <td>9</td>\n",
       "      <td>57</td>\n",
       "      <td>10</td>\n",
       "      <td>4</td>\n",
       "      <td>1</td>\n",
       "      <td>1</td>\n",
       "      <td>25</td>\n",
       "      <td>1</td>\n",
       "      <td>No</td>\n",
       "      <td>1</td>\n",
       "    </tr>\n",
       "    <tr>\n",
       "      <th>2</th>\n",
       "      <td>34</td>\n",
       "      <td>Female</td>\n",
       "      <td>Married</td>\n",
       "      <td>Marketing</td>\n",
       "      <td>Manager</td>\n",
       "      <td>4</td>\n",
       "      <td>11485</td>\n",
       "      <td>65</td>\n",
       "      <td>6</td>\n",
       "      <td>4</td>\n",
       "      <td>...</td>\n",
       "      <td>3</td>\n",
       "      <td>55</td>\n",
       "      <td>1</td>\n",
       "      <td>1</td>\n",
       "      <td>4</td>\n",
       "      <td>3</td>\n",
       "      <td>21</td>\n",
       "      <td>1</td>\n",
       "      <td>Yes</td>\n",
       "      <td>1</td>\n",
       "    </tr>\n",
       "    <tr>\n",
       "      <th>3</th>\n",
       "      <td>27</td>\n",
       "      <td>Female</td>\n",
       "      <td>Divorced</td>\n",
       "      <td>HR</td>\n",
       "      <td>Manager</td>\n",
       "      <td>4</td>\n",
       "      <td>18707</td>\n",
       "      <td>28</td>\n",
       "      <td>12</td>\n",
       "      <td>9</td>\n",
       "      <td>...</td>\n",
       "      <td>9</td>\n",
       "      <td>53</td>\n",
       "      <td>2</td>\n",
       "      <td>3</td>\n",
       "      <td>4</td>\n",
       "      <td>1</td>\n",
       "      <td>46</td>\n",
       "      <td>2</td>\n",
       "      <td>No</td>\n",
       "      <td>1</td>\n",
       "    </tr>\n",
       "    <tr>\n",
       "      <th>4</th>\n",
       "      <td>40</td>\n",
       "      <td>Male</td>\n",
       "      <td>Married</td>\n",
       "      <td>HR</td>\n",
       "      <td>Analyst</td>\n",
       "      <td>1</td>\n",
       "      <td>16398</td>\n",
       "      <td>92</td>\n",
       "      <td>3</td>\n",
       "      <td>9</td>\n",
       "      <td>...</td>\n",
       "      <td>1</td>\n",
       "      <td>54</td>\n",
       "      <td>11</td>\n",
       "      <td>1</td>\n",
       "      <td>1</td>\n",
       "      <td>1</td>\n",
       "      <td>43</td>\n",
       "      <td>4</td>\n",
       "      <td>No</td>\n",
       "      <td>1</td>\n",
       "    </tr>\n",
       "  </tbody>\n",
       "</table>\n",
       "<p>5 rows × 26 columns</p>\n",
       "</div>"
      ],
      "text/plain": [
       "   Age  Gender Marital_Status Department   Job_Role  Job_Level  \\\n",
       "0   58    Male         Single    Finance    Manager          5   \n",
       "1   48  Female       Divorced         HR  Assistant          4   \n",
       "2   34  Female        Married  Marketing    Manager          4   \n",
       "3   27  Female       Divorced         HR    Manager          4   \n",
       "4   40    Male        Married         HR    Analyst          1   \n",
       "\n",
       "   Monthly_Income  Hourly_Rate  Years_at_Company  Years_in_Current_Role  ...  \\\n",
       "0            7332           81                24                     12  ...   \n",
       "1            6069           55                18                      7  ...   \n",
       "2           11485           65                 6                      4  ...   \n",
       "3           18707           28                12                      9  ...   \n",
       "4           16398           92                 3                      9  ...   \n",
       "\n",
       "   Project_Count  Average_Hours_Worked_Per_Week  Absenteeism  \\\n",
       "0              9                             48           16   \n",
       "1              9                             57           10   \n",
       "2              3                             55            1   \n",
       "3              9                             53            2   \n",
       "4              1                             54           11   \n",
       "\n",
       "   Work_Environment_Satisfaction  Relationship_with_Manager Job_Involvement  \\\n",
       "0                              4                          1               1   \n",
       "1                              4                          1               1   \n",
       "2                              1                          4               3   \n",
       "3                              3                          4               1   \n",
       "4                              1                          1               1   \n",
       "\n",
       "   Distance_From_Home  Number_of_Companies_Worked  Attrition  Amount  \n",
       "0                  49                           3         No       1  \n",
       "1                  25                           1         No       1  \n",
       "2                  21                           1        Yes       1  \n",
       "3                  46                           2         No       1  \n",
       "4                  43                           4         No       1  \n",
       "\n",
       "[5 rows x 26 columns]"
      ]
     },
     "execution_count": 146,
     "metadata": {},
     "output_type": "execute_result"
    }
   ],
   "source": [
    "# Check for missing values \n",
    "workers.isnull().any()\n",
    "#Drop the column\n",
    "workers = workers.drop(columns =['Employee_ID'],axis=1)\n",
    "workers.head()"
   ]
  },
  {
   "cell_type": "markdown",
   "metadata": {},
   "source": [
    "### Next, I want to create an age range column instead of having the individual ages. This will help minimize mulitcollinearity, and simplify the model. "
   ]
  },
  {
   "cell_type": "code",
   "execution_count": 147,
   "metadata": {},
   "outputs": [
    {
     "name": "stdout",
     "output_type": "stream",
     "text": [
      "20\n",
      "59\n"
     ]
    },
    {
     "data": {
      "text/html": [
       "<div>\n",
       "<style scoped>\n",
       "    .dataframe tbody tr th:only-of-type {\n",
       "        vertical-align: middle;\n",
       "    }\n",
       "\n",
       "    .dataframe tbody tr th {\n",
       "        vertical-align: top;\n",
       "    }\n",
       "\n",
       "    .dataframe thead th {\n",
       "        text-align: right;\n",
       "    }\n",
       "</style>\n",
       "<table border=\"1\" class=\"dataframe\">\n",
       "  <thead>\n",
       "    <tr style=\"text-align: right;\">\n",
       "      <th></th>\n",
       "      <th>Gender</th>\n",
       "      <th>Marital_Status</th>\n",
       "      <th>Department</th>\n",
       "      <th>Job_Role</th>\n",
       "      <th>Job_Level</th>\n",
       "      <th>Monthly_Income</th>\n",
       "      <th>Hourly_Rate</th>\n",
       "      <th>Years_at_Company</th>\n",
       "      <th>Years_in_Current_Role</th>\n",
       "      <th>Years_Since_Last_Promotion</th>\n",
       "      <th>...</th>\n",
       "      <th>Average_Hours_Worked_Per_Week</th>\n",
       "      <th>Absenteeism</th>\n",
       "      <th>Work_Environment_Satisfaction</th>\n",
       "      <th>Relationship_with_Manager</th>\n",
       "      <th>Job_Involvement</th>\n",
       "      <th>Distance_From_Home</th>\n",
       "      <th>Number_of_Companies_Worked</th>\n",
       "      <th>Attrition</th>\n",
       "      <th>Amount</th>\n",
       "      <th>Age_Group</th>\n",
       "    </tr>\n",
       "  </thead>\n",
       "  <tbody>\n",
       "    <tr>\n",
       "      <th>0</th>\n",
       "      <td>Male</td>\n",
       "      <td>Single</td>\n",
       "      <td>Finance</td>\n",
       "      <td>Manager</td>\n",
       "      <td>5</td>\n",
       "      <td>7332</td>\n",
       "      <td>81</td>\n",
       "      <td>24</td>\n",
       "      <td>12</td>\n",
       "      <td>3</td>\n",
       "      <td>...</td>\n",
       "      <td>48</td>\n",
       "      <td>16</td>\n",
       "      <td>4</td>\n",
       "      <td>1</td>\n",
       "      <td>1</td>\n",
       "      <td>49</td>\n",
       "      <td>3</td>\n",
       "      <td>No</td>\n",
       "      <td>1</td>\n",
       "      <td>50-59</td>\n",
       "    </tr>\n",
       "    <tr>\n",
       "      <th>1</th>\n",
       "      <td>Female</td>\n",
       "      <td>Divorced</td>\n",
       "      <td>HR</td>\n",
       "      <td>Assistant</td>\n",
       "      <td>4</td>\n",
       "      <td>6069</td>\n",
       "      <td>55</td>\n",
       "      <td>18</td>\n",
       "      <td>7</td>\n",
       "      <td>5</td>\n",
       "      <td>...</td>\n",
       "      <td>57</td>\n",
       "      <td>10</td>\n",
       "      <td>4</td>\n",
       "      <td>1</td>\n",
       "      <td>1</td>\n",
       "      <td>25</td>\n",
       "      <td>1</td>\n",
       "      <td>No</td>\n",
       "      <td>1</td>\n",
       "      <td>40-49</td>\n",
       "    </tr>\n",
       "    <tr>\n",
       "      <th>2</th>\n",
       "      <td>Female</td>\n",
       "      <td>Married</td>\n",
       "      <td>Marketing</td>\n",
       "      <td>Manager</td>\n",
       "      <td>4</td>\n",
       "      <td>11485</td>\n",
       "      <td>65</td>\n",
       "      <td>6</td>\n",
       "      <td>4</td>\n",
       "      <td>3</td>\n",
       "      <td>...</td>\n",
       "      <td>55</td>\n",
       "      <td>1</td>\n",
       "      <td>1</td>\n",
       "      <td>4</td>\n",
       "      <td>3</td>\n",
       "      <td>21</td>\n",
       "      <td>1</td>\n",
       "      <td>Yes</td>\n",
       "      <td>1</td>\n",
       "      <td>30-39</td>\n",
       "    </tr>\n",
       "    <tr>\n",
       "      <th>3</th>\n",
       "      <td>Female</td>\n",
       "      <td>Divorced</td>\n",
       "      <td>HR</td>\n",
       "      <td>Manager</td>\n",
       "      <td>4</td>\n",
       "      <td>18707</td>\n",
       "      <td>28</td>\n",
       "      <td>12</td>\n",
       "      <td>9</td>\n",
       "      <td>1</td>\n",
       "      <td>...</td>\n",
       "      <td>53</td>\n",
       "      <td>2</td>\n",
       "      <td>3</td>\n",
       "      <td>4</td>\n",
       "      <td>1</td>\n",
       "      <td>46</td>\n",
       "      <td>2</td>\n",
       "      <td>No</td>\n",
       "      <td>1</td>\n",
       "      <td>20-29</td>\n",
       "    </tr>\n",
       "    <tr>\n",
       "      <th>4</th>\n",
       "      <td>Male</td>\n",
       "      <td>Married</td>\n",
       "      <td>HR</td>\n",
       "      <td>Analyst</td>\n",
       "      <td>1</td>\n",
       "      <td>16398</td>\n",
       "      <td>92</td>\n",
       "      <td>3</td>\n",
       "      <td>9</td>\n",
       "      <td>1</td>\n",
       "      <td>...</td>\n",
       "      <td>54</td>\n",
       "      <td>11</td>\n",
       "      <td>1</td>\n",
       "      <td>1</td>\n",
       "      <td>1</td>\n",
       "      <td>43</td>\n",
       "      <td>4</td>\n",
       "      <td>No</td>\n",
       "      <td>1</td>\n",
       "      <td>40-49</td>\n",
       "    </tr>\n",
       "  </tbody>\n",
       "</table>\n",
       "<p>5 rows × 26 columns</p>\n",
       "</div>"
      ],
      "text/plain": [
       "   Gender Marital_Status Department   Job_Role  Job_Level  Monthly_Income  \\\n",
       "0    Male         Single    Finance    Manager          5            7332   \n",
       "1  Female       Divorced         HR  Assistant          4            6069   \n",
       "2  Female        Married  Marketing    Manager          4           11485   \n",
       "3  Female       Divorced         HR    Manager          4           18707   \n",
       "4    Male        Married         HR    Analyst          1           16398   \n",
       "\n",
       "   Hourly_Rate  Years_at_Company  Years_in_Current_Role  \\\n",
       "0           81                24                     12   \n",
       "1           55                18                      7   \n",
       "2           65                 6                      4   \n",
       "3           28                12                      9   \n",
       "4           92                 3                      9   \n",
       "\n",
       "   Years_Since_Last_Promotion  ...  Average_Hours_Worked_Per_Week  \\\n",
       "0                           3  ...                             48   \n",
       "1                           5  ...                             57   \n",
       "2                           3  ...                             55   \n",
       "3                           1  ...                             53   \n",
       "4                           1  ...                             54   \n",
       "\n",
       "   Absenteeism  Work_Environment_Satisfaction  Relationship_with_Manager  \\\n",
       "0           16                              4                          1   \n",
       "1           10                              4                          1   \n",
       "2            1                              1                          4   \n",
       "3            2                              3                          4   \n",
       "4           11                              1                          1   \n",
       "\n",
       "  Job_Involvement  Distance_From_Home  Number_of_Companies_Worked  Attrition  \\\n",
       "0               1                  49                           3         No   \n",
       "1               1                  25                           1         No   \n",
       "2               3                  21                           1        Yes   \n",
       "3               1                  46                           2         No   \n",
       "4               1                  43                           4         No   \n",
       "\n",
       "   Amount  Age_Group  \n",
       "0       1      50-59  \n",
       "1       1      40-49  \n",
       "2       1      30-39  \n",
       "3       1      20-29  \n",
       "4       1      40-49  \n",
       "\n",
       "[5 rows x 26 columns]"
      ]
     },
     "execution_count": 147,
     "metadata": {},
     "output_type": "execute_result"
    }
   ],
   "source": [
    "#Addressing the min and max age of all of the workers\n",
    "print(workers[\"Age\"].min())\n",
    "print(workers[\"Age\"].max())\n",
    "# Creating the bins and labels\n",
    "bins = [20, 30, 40, 50, 60, 100]\n",
    "labels = [\"20-29\", \"30-39\", \"40-49\", \"50-59\", \"60+\"]\n",
    "#Create the age groups\n",
    "workers['Age_Group'] = pd.cut(workers['Age'], bins=bins, labels=labels, right = False)\n",
    "# workers.head()\n",
    "#Since I check that the new column was calculated properly,\n",
    "# I will drop the original age column to used the age groups in the model.\n",
    "workers = workers.drop(columns = ['Age'], axis = 1)\n",
    "workers.head()"
   ]
  },
  {
   "cell_type": "markdown",
   "metadata": {},
   "source": [
    "### The next preperation I will do to the dataset is create dummy variables for each of the categorical variable so they can be used in the binary regerssion. "
   ]
  },
  {
   "cell_type": "code",
   "execution_count": 148,
   "metadata": {},
   "outputs": [],
   "source": [
    "# Create Dummy Variables for all of the categorical variables to prep for the binary regression. \n",
    "\n",
    "def dummy_variables(df, columns):\n",
    "    df1 = pd.get_dummies(df, columns = columns)\n",
    "    return df1\n",
    "\n",
    "workers['Attrition'] = np.where(workers['Attrition'] == 'No', 0, 1)\n",
    "\n",
    "\n",
    "cat_vari = ['Gender', 'Marital_Status','Job_Role', 'Overtime', 'Age_Group']\n",
    "# cat_vari1 = ['Department','Gender', 'Marital_Status','Job_Role', 'Overtime', 'Age_Group']\n",
    "workers_dummy = dummy_variables(workers, cat_vari)\n",
    "work = dummy_variables(workers, cat_vari)"
   ]
  },
  {
   "cell_type": "code",
   "execution_count": null,
   "metadata": {},
   "outputs": [],
   "source": []
  },
  {
   "cell_type": "markdown",
   "metadata": {},
   "source": [
    "### Lastly, I am going to split the dataset by department because different attributes may be more/less important in one department when compared to another. I think it will help create a detailed final result that can produce speciallized results for each department. "
   ]
  },
  {
   "cell_type": "code",
   "execution_count": 149,
   "metadata": {},
   "outputs": [],
   "source": [
    "workers_dummy['Department'].unique()\n",
    "# Finance\n",
    "finance_work = workers_dummy.loc[workers_dummy['Department'] == 'Finance']\n",
    "# finance_work\n",
    "#HR\n",
    "hr_work = workers_dummy.loc[workers_dummy['Department'] == 'HR']\n",
    "# Sales\n",
    "sales_work = workers_dummy.loc[workers_dummy['Department'] == 'Sales']\n",
    "# It\n",
    "it_work = workers_dummy.loc[workers_dummy['Department'] == 'IT']\n",
    "# Marketing\n",
    "marketing_work = workers_dummy.loc[workers_dummy['Department'] == 'Marketing']"
   ]
  },
  {
   "cell_type": "markdown",
   "metadata": {},
   "source": [
    "## Milestone 3"
   ]
  },
  {
   "cell_type": "code",
   "execution_count": 150,
   "metadata": {},
   "outputs": [],
   "source": [
    "# Step 1: Add the proper packages to run the logistic model. \n",
    "import pandas as pd\n",
    "import statsmodels.api as sm\n",
    "from sklearn.model_selection import train_test_split\n",
    "from sklearn.metrics import classification_report\n",
    "from sklearn.linear_model import LogisticRegression\n",
    "from sklearn.utils.class_weight import compute_class_weight\n",
    "from sklearn.metrics import roc_auc_score\n",
    "from sklearn import metrics\n",
    "from sklearn.tree import DecisionTreeClassifier, plot_tree\n",
    "import matplotlib.pyplot as plt"
   ]
  },
  {
   "cell_type": "code",
   "execution_count": 151,
   "metadata": {},
   "outputs": [],
   "source": [
    "# Step 2: Classify X and Y for each of the datasets. Also creating a constant for the intercept. \n",
    "# All Departments\n",
    "X = work.drop(['Attrition', 'Department'], axis = 1)\n",
    "Y = work['Attrition']\n",
    "## Finance\n",
    "fin_X = finance_work.drop(['Attrition', 'Department'], axis=1)\n",
    "fin_Y = finance_work['Attrition']\n",
    "# fin_X = sm.add_constant(fin_X) \n",
    "#HR\n",
    "hr_X = hr_work.drop(['Attrition', 'Department'], axis=1)\n",
    "hr_Y = hr_work['Attrition']\n",
    "# hr_X = sm.add_constant(hr_X)\n",
    "# Sales\n",
    "sal_X = sales_work.drop(['Attrition', 'Department'], axis=1)\n",
    "sal_Y = sales_work['Attrition']\n",
    "# sal_X = sm.add_constant(sal_X)\n",
    "# It\n",
    "it_X = it_work.drop(['Attrition', 'Department'], axis=1)\n",
    "it_Y = it_work['Attrition']\n",
    "# it_X = sm.add_constant(it_X)\n",
    "# Marketing\n",
    "mark_X = marketing_work.drop(['Attrition','Department'], axis=1)\n",
    "mark_Y = marketing_work['Attrition']\n",
    "# mark_X = sm.add_constant(mark_X"
   ]
  },
  {
   "cell_type": "code",
   "execution_count": 152,
   "metadata": {},
   "outputs": [],
   "source": [
    "# Step 3: Next, I'll split the data into a test and training set for each department. \n",
    "X_train, X_test, y_train, y_test = train_test_split(X, Y, test_size=0.20, random_state=42) \n",
    "X_Ftrain, X_Ftest, y_Ftrain, y_Ftest = train_test_split(fin_X, fin_Y, test_size=0.20, random_state=42) \n",
    "X_Htrain, X_Htest, y_Htrain, y_Htest = train_test_split(hr_X, hr_Y, test_size=0.20, random_state=42) \n",
    "X_Strain, X_Stest, y_Strain, y_Stest = train_test_split(sal_X, sal_Y, test_size=0.20, random_state=42) \n",
    "X_Itrain, X_Itest, y_Itrain, y_Itest = train_test_split(it_X, it_Y, test_size=0.20, random_state=42) \n",
    "X_Mtrain, X_Mtest, y_Mtrain, y_Mtest = train_test_split(mark_X, mark_Y, test_size=0.20, random_state=42) "
   ]
  },
  {
   "cell_type": "code",
   "execution_count": 153,
   "metadata": {},
   "outputs": [
    {
     "name": "stderr",
     "output_type": "stream",
     "text": [
      "C:\\Users\\14027\\OneDrive\\Attachments\\lib\\site-packages\\sklearn\\linear_model\\_logistic.py:818: ConvergenceWarning: lbfgs failed to converge (status=1):\n",
      "STOP: TOTAL NO. of ITERATIONS REACHED LIMIT.\n",
      "\n",
      "Increase the number of iterations (max_iter) or scale the data as shown in:\n",
      "    https://scikit-learn.org/stable/modules/preprocessing.html\n",
      "Please also refer to the documentation for alternative solver options:\n",
      "    https://scikit-learn.org/stable/modules/linear_model.html#logistic-regression\n",
      "  extra_warning_msg=_LOGISTIC_SOLVER_CONVERGENCE_MSG,\n",
      "C:\\Users\\14027\\OneDrive\\Attachments\\lib\\site-packages\\sklearn\\linear_model\\_logistic.py:818: ConvergenceWarning: lbfgs failed to converge (status=1):\n",
      "STOP: TOTAL NO. of ITERATIONS REACHED LIMIT.\n",
      "\n",
      "Increase the number of iterations (max_iter) or scale the data as shown in:\n",
      "    https://scikit-learn.org/stable/modules/preprocessing.html\n",
      "Please also refer to the documentation for alternative solver options:\n",
      "    https://scikit-learn.org/stable/modules/linear_model.html#logistic-regression\n",
      "  extra_warning_msg=_LOGISTIC_SOLVER_CONVERGENCE_MSG,\n",
      "C:\\Users\\14027\\OneDrive\\Attachments\\lib\\site-packages\\sklearn\\linear_model\\_logistic.py:818: ConvergenceWarning: lbfgs failed to converge (status=1):\n",
      "STOP: TOTAL NO. of ITERATIONS REACHED LIMIT.\n",
      "\n",
      "Increase the number of iterations (max_iter) or scale the data as shown in:\n",
      "    https://scikit-learn.org/stable/modules/preprocessing.html\n",
      "Please also refer to the documentation for alternative solver options:\n",
      "    https://scikit-learn.org/stable/modules/linear_model.html#logistic-regression\n",
      "  extra_warning_msg=_LOGISTIC_SOLVER_CONVERGENCE_MSG,\n",
      "C:\\Users\\14027\\OneDrive\\Attachments\\lib\\site-packages\\sklearn\\linear_model\\_logistic.py:818: ConvergenceWarning: lbfgs failed to converge (status=1):\n",
      "STOP: TOTAL NO. of ITERATIONS REACHED LIMIT.\n",
      "\n",
      "Increase the number of iterations (max_iter) or scale the data as shown in:\n",
      "    https://scikit-learn.org/stable/modules/preprocessing.html\n",
      "Please also refer to the documentation for alternative solver options:\n",
      "    https://scikit-learn.org/stable/modules/linear_model.html#logistic-regression\n",
      "  extra_warning_msg=_LOGISTIC_SOLVER_CONVERGENCE_MSG,\n",
      "C:\\Users\\14027\\OneDrive\\Attachments\\lib\\site-packages\\sklearn\\linear_model\\_logistic.py:818: ConvergenceWarning: lbfgs failed to converge (status=1):\n",
      "STOP: TOTAL NO. of ITERATIONS REACHED LIMIT.\n",
      "\n",
      "Increase the number of iterations (max_iter) or scale the data as shown in:\n",
      "    https://scikit-learn.org/stable/modules/preprocessing.html\n",
      "Please also refer to the documentation for alternative solver options:\n",
      "    https://scikit-learn.org/stable/modules/linear_model.html#logistic-regression\n",
      "  extra_warning_msg=_LOGISTIC_SOLVER_CONVERGENCE_MSG,\n",
      "C:\\Users\\14027\\OneDrive\\Attachments\\lib\\site-packages\\sklearn\\linear_model\\_logistic.py:818: ConvergenceWarning: lbfgs failed to converge (status=1):\n",
      "STOP: TOTAL NO. of ITERATIONS REACHED LIMIT.\n",
      "\n",
      "Increase the number of iterations (max_iter) or scale the data as shown in:\n",
      "    https://scikit-learn.org/stable/modules/preprocessing.html\n",
      "Please also refer to the documentation for alternative solver options:\n",
      "    https://scikit-learn.org/stable/modules/linear_model.html#logistic-regression\n",
      "  extra_warning_msg=_LOGISTIC_SOLVER_CONVERGENCE_MSG,\n"
     ]
    },
    {
     "data": {
      "text/plain": [
       "LogisticRegression(class_weight='balanced', random_state=42)"
      ]
     },
     "execution_count": 153,
     "metadata": {},
     "output_type": "execute_result"
    }
   ],
   "source": [
    "#Step 4: Fit the Model. I have to add a class weight because without it the model will ignore class = 1.\n",
    "# Also I going to add a scaler to try and help improve the accuracy\n",
    "model = LogisticRegression(class_weight='balanced',random_state = 42)\n",
    "model.fit(X_train, y_train)\n",
    "model.fit(X_Ftrain, y_Ftrain)   \n",
    "model.fit(X_Htrain, y_Htrain)   \n",
    "model.fit(X_Strain, y_Strain)   \n",
    "model.fit(X_Itrain, y_Itrain)   \n",
    "model.fit(X_Mtrain, y_Mtrain)   "
   ]
  },
  {
   "cell_type": "code",
   "execution_count": 154,
   "metadata": {},
   "outputs": [],
   "source": [
    "#Step 5: Predict the y-values for each of the fitted models\n",
    "y_pred = model.predict(X_test)\n",
    "y_Fpred = model.predict(X_Ftest)\n",
    "y_Hpred = model.predict(X_Htest)\n",
    "y_Ipred = model.predict(X_Itest)\n",
    "y_Spred = model.predict(X_Stest)\n",
    "y_Mpred = model.predict(X_Mtest)"
   ]
  },
  {
   "cell_type": "code",
   "execution_count": 155,
   "metadata": {},
   "outputs": [
    {
     "name": "stdout",
     "output_type": "stream",
     "text": [
      "Confusion Matrix:\n",
      " [[823 769]\n",
      " [194 214]]\n",
      "              precision    recall  f1-score   support\n",
      "\n",
      "           0       0.81      0.52      0.63      1592\n",
      "           1       0.22      0.52      0.31       408\n",
      "\n",
      "    accuracy                           0.52      2000\n",
      "   macro avg       0.51      0.52      0.47      2000\n",
      "weighted avg       0.69      0.52      0.56      2000\n",
      "\n",
      "AUC: 0.5207348014582717\n"
     ]
    }
   ],
   "source": [
    "# Step 6: Showcase the result for each department and provide conclusions. \n",
    "# All Department\n",
    "print(\"Confusion Matrix:\\n\", metrics.confusion_matrix(y_test, y_pred))\n",
    "print(classification_report(y_test, y_pred))\n",
    "auc = roc_auc_score(y_test, y_pred)\n",
    "print(f\"AUC: {auc}\")"
   ]
  },
  {
   "cell_type": "code",
   "execution_count": 156,
   "metadata": {},
   "outputs": [
    {
     "name": "stdout",
     "output_type": "stream",
     "text": [
      "Confusion Matrix:\n",
      " [[142 165]\n",
      " [ 46  45]]\n",
      "              precision    recall  f1-score   support\n",
      "\n",
      "           0       0.76      0.46      0.57       307\n",
      "           1       0.21      0.49      0.30        91\n",
      "\n",
      "    accuracy                           0.47       398\n",
      "   macro avg       0.48      0.48      0.44       398\n",
      "weighted avg       0.63      0.47      0.51       398\n",
      "\n",
      "AUC: 0.4785231055589362\n"
     ]
    }
   ],
   "source": [
    "## Finance\n",
    "print(\"Confusion Matrix:\\n\", metrics.confusion_matrix(y_Ftest, y_Fpred))\n",
    "print(classification_report(y_Ftest, y_Fpred))\n",
    "auc = roc_auc_score(y_Ftest, y_Fpred)\n",
    "print(f\"AUC: {auc}\")"
   ]
  },
  {
   "cell_type": "code",
   "execution_count": 157,
   "metadata": {},
   "outputs": [
    {
     "name": "stdout",
     "output_type": "stream",
     "text": [
      "Confusion Matrix:\n",
      " [[151 152]\n",
      " [ 41  47]]\n",
      "              precision    recall  f1-score   support\n",
      "\n",
      "           0       0.79      0.50      0.61       303\n",
      "           1       0.24      0.53      0.33        88\n",
      "\n",
      "    accuracy                           0.51       391\n",
      "   macro avg       0.51      0.52      0.47       391\n",
      "weighted avg       0.66      0.51      0.55       391\n",
      "\n"
     ]
    }
   ],
   "source": [
    "## HR\n",
    "print(\"Confusion Matrix:\\n\", metrics.confusion_matrix(y_Htest, y_Hpred))\n",
    "print(classification_report(y_Htest, y_Hpred))"
   ]
  },
  {
   "cell_type": "code",
   "execution_count": 158,
   "metadata": {},
   "outputs": [
    {
     "name": "stdout",
     "output_type": "stream",
     "text": [
      "Confusion Matrix:\n",
      " [[161 165]\n",
      " [ 21  37]]\n",
      "              precision    recall  f1-score   support\n",
      "\n",
      "           0       0.88      0.49      0.63       326\n",
      "           1       0.18      0.64      0.28        58\n",
      "\n",
      "    accuracy                           0.52       384\n",
      "   macro avg       0.53      0.57      0.46       384\n",
      "weighted avg       0.78      0.52      0.58       384\n",
      "\n"
     ]
    }
   ],
   "source": [
    "#IT\n",
    "print(\"Confusion Matrix:\\n\", metrics.confusion_matrix(y_Itest, y_Ipred))\n",
    "print(classification_report(y_Itest, y_Ipred))"
   ]
  },
  {
   "cell_type": "markdown",
   "metadata": {},
   "source": [
    "## Fianl Analysis of Logistic Regression\n",
    "\n",
    "After creating running the model on each department as well as all of them together, I found that the logistic regression is not the right model for this project. I check all of the departments, Finance, HR, and IT. I found that the accuracy for the models is very low and has similar odds to a coin flip, around 50%. Also I ran an AUC score for all of the departments and the finance department and they were both very low at around 0.50. This would indicate the model isn't a good fit for the dataset. Therefore, I want to try a different model to try and get a better acuracy for predicting attrition rates. My next model will be Random Forest. "
   ]
  },
  {
   "cell_type": "markdown",
   "metadata": {},
   "source": [
    "## Random Forest\n",
    "\n",
    "I decided to use this instead because I still plan to use the same X and Y values for the decision trees. "
   ]
  },
  {
   "cell_type": "code",
   "execution_count": 159,
   "metadata": {},
   "outputs": [],
   "source": [
    "import pandas as pd\n",
    "import matplotlib.pyplot as plt\n",
    "import numpy as np\n",
    "from sklearn.model_selection import train_test_split\n",
    "from sklearn.ensemble import RandomForestClassifier\n",
    "from sklearn.metrics import accuracy_score\n",
    "from sklearn import metrics\n",
    "from sklearn.metrics import classification_report\n",
    "from sklearn.inspection import permutation_importance"
   ]
  },
  {
   "cell_type": "code",
   "execution_count": 160,
   "metadata": {},
   "outputs": [
    {
     "data": {
      "text/plain": [
       "RandomForestClassifier(random_state=42)"
      ]
     },
     "execution_count": 160,
     "metadata": {},
     "output_type": "execute_result"
    }
   ],
   "source": [
    "#  Creating and training the classifier\n",
    "rf = RandomForestClassifier(n_estimators=100, random_state=42)\n",
    "rf.fit(X_train, y_train)\n",
    "rf.fit(X_Ftrain, y_Ftrain)   \n",
    "rf.fit(X_Htrain, y_Htrain)   \n",
    "rf.fit(X_Strain, y_Strain)   \n",
    "rf.fit(X_Itrain, y_Itrain)   \n",
    "rf.fit(X_Mtrain, y_Mtrain)   "
   ]
  },
  {
   "cell_type": "code",
   "execution_count": 161,
   "metadata": {},
   "outputs": [],
   "source": [
    "# Creating the predictions\n",
    "y_predrf = rf.predict(X_test)\n",
    "y_Fpredrf = rf.predict(X_Ftest)\n",
    "y_Hpredrf = rf.predict(X_Htest)\n",
    "y_Ipredrf = rf.predict(X_Itest)\n",
    "y_Spredrf = rf.predict(X_Stest)\n",
    "y_Mpredrf = rf.predict(X_Mtest)"
   ]
  },
  {
   "cell_type": "code",
   "execution_count": 162,
   "metadata": {},
   "outputs": [
    {
     "name": "stdout",
     "output_type": "stream",
     "text": [
      "Confusion Matrix:\n",
      " [[1592    0]\n",
      " [ 343   65]]\n",
      "Classification Report:\n",
      "               precision    recall  f1-score   support\n",
      "\n",
      "           0       0.82      1.00      0.90      1592\n",
      "           1       1.00      0.16      0.27       408\n",
      "\n",
      "    accuracy                           0.83      2000\n",
      "   macro avg       0.91      0.58      0.59      2000\n",
      "weighted avg       0.86      0.83      0.77      2000\n",
      "\n"
     ]
    }
   ],
   "source": [
    "# Confusion Matrix\n",
    "# all Departments\n",
    "print(\"Confusion Matrix:\\n\", metrics.confusion_matrix(y_test, y_predrf))\n",
    "print(\"Classification Report:\\n\",classification_report(y_test, y_predrf))\n",
    "# print(\"Accuracy Score: \\n\", accuracy_score(y_test, y_predrf))"
   ]
  },
  {
   "cell_type": "code",
   "execution_count": 163,
   "metadata": {},
   "outputs": [
    {
     "name": "stdout",
     "output_type": "stream",
     "text": [
      "Confusion Matrix:\n",
      " [[307   0]\n",
      " [ 91   0]]\n",
      "Classification Report:\n",
      "               precision    recall  f1-score   support\n",
      "\n",
      "           0       0.77      1.00      0.87       307\n",
      "           1       0.00      0.00      0.00        91\n",
      "\n",
      "    accuracy                           0.77       398\n",
      "   macro avg       0.39      0.50      0.44       398\n",
      "weighted avg       0.59      0.77      0.67       398\n",
      "\n"
     ]
    },
    {
     "name": "stderr",
     "output_type": "stream",
     "text": [
      "C:\\Users\\14027\\OneDrive\\Attachments\\lib\\site-packages\\sklearn\\metrics\\_classification.py:1318: UndefinedMetricWarning: Precision and F-score are ill-defined and being set to 0.0 in labels with no predicted samples. Use `zero_division` parameter to control this behavior.\n",
      "  _warn_prf(average, modifier, msg_start, len(result))\n",
      "C:\\Users\\14027\\OneDrive\\Attachments\\lib\\site-packages\\sklearn\\metrics\\_classification.py:1318: UndefinedMetricWarning: Precision and F-score are ill-defined and being set to 0.0 in labels with no predicted samples. Use `zero_division` parameter to control this behavior.\n",
      "  _warn_prf(average, modifier, msg_start, len(result))\n",
      "C:\\Users\\14027\\OneDrive\\Attachments\\lib\\site-packages\\sklearn\\metrics\\_classification.py:1318: UndefinedMetricWarning: Precision and F-score are ill-defined and being set to 0.0 in labels with no predicted samples. Use `zero_division` parameter to control this behavior.\n",
      "  _warn_prf(average, modifier, msg_start, len(result))\n"
     ]
    }
   ],
   "source": [
    "# Finance y_Ftest, y_Fpred\n",
    "print(\"Confusion Matrix:\\n\", metrics.confusion_matrix(y_Ftest, y_Fpredrf))\n",
    "print(\"Classification Report:\\n\",classification_report(y_Ftest, y_Fpredrf))"
   ]
  },
  {
   "cell_type": "code",
   "execution_count": 164,
   "metadata": {},
   "outputs": [
    {
     "name": "stdout",
     "output_type": "stream",
     "text": [
      "Confusion Matrix:\n",
      " [[303   0]\n",
      " [ 88   0]]\n",
      "Classification Report:\n",
      "               precision    recall  f1-score   support\n",
      "\n",
      "           0       0.77      1.00      0.87       303\n",
      "           1       0.00      0.00      0.00        88\n",
      "\n",
      "    accuracy                           0.77       391\n",
      "   macro avg       0.39      0.50      0.44       391\n",
      "weighted avg       0.60      0.77      0.68       391\n",
      "\n"
     ]
    },
    {
     "name": "stderr",
     "output_type": "stream",
     "text": [
      "C:\\Users\\14027\\OneDrive\\Attachments\\lib\\site-packages\\sklearn\\metrics\\_classification.py:1318: UndefinedMetricWarning: Precision and F-score are ill-defined and being set to 0.0 in labels with no predicted samples. Use `zero_division` parameter to control this behavior.\n",
      "  _warn_prf(average, modifier, msg_start, len(result))\n",
      "C:\\Users\\14027\\OneDrive\\Attachments\\lib\\site-packages\\sklearn\\metrics\\_classification.py:1318: UndefinedMetricWarning: Precision and F-score are ill-defined and being set to 0.0 in labels with no predicted samples. Use `zero_division` parameter to control this behavior.\n",
      "  _warn_prf(average, modifier, msg_start, len(result))\n",
      "C:\\Users\\14027\\OneDrive\\Attachments\\lib\\site-packages\\sklearn\\metrics\\_classification.py:1318: UndefinedMetricWarning: Precision and F-score are ill-defined and being set to 0.0 in labels with no predicted samples. Use `zero_division` parameter to control this behavior.\n",
      "  _warn_prf(average, modifier, msg_start, len(result))\n"
     ]
    }
   ],
   "source": [
    "# HR\n",
    "print(\"Confusion Matrix:\\n\", metrics.confusion_matrix(y_Htest, y_Hpredrf))\n",
    "print(\"Classification Report:\\n\",classification_report(y_Htest, y_Hpredrf))"
   ]
  },
  {
   "cell_type": "code",
   "execution_count": 165,
   "metadata": {},
   "outputs": [
    {
     "name": "stdout",
     "output_type": "stream",
     "text": [
      "Confusion Matrix:\n",
      " [[326   0]\n",
      " [ 58   0]]\n",
      "Classification Report:\n",
      "               precision    recall  f1-score   support\n",
      "\n",
      "           0       0.85      1.00      0.92       326\n",
      "           1       0.00      0.00      0.00        58\n",
      "\n",
      "    accuracy                           0.85       384\n",
      "   macro avg       0.42      0.50      0.46       384\n",
      "weighted avg       0.72      0.85      0.78       384\n",
      "\n"
     ]
    },
    {
     "name": "stderr",
     "output_type": "stream",
     "text": [
      "C:\\Users\\14027\\OneDrive\\Attachments\\lib\\site-packages\\sklearn\\metrics\\_classification.py:1318: UndefinedMetricWarning: Precision and F-score are ill-defined and being set to 0.0 in labels with no predicted samples. Use `zero_division` parameter to control this behavior.\n",
      "  _warn_prf(average, modifier, msg_start, len(result))\n",
      "C:\\Users\\14027\\OneDrive\\Attachments\\lib\\site-packages\\sklearn\\metrics\\_classification.py:1318: UndefinedMetricWarning: Precision and F-score are ill-defined and being set to 0.0 in labels with no predicted samples. Use `zero_division` parameter to control this behavior.\n",
      "  _warn_prf(average, modifier, msg_start, len(result))\n",
      "C:\\Users\\14027\\OneDrive\\Attachments\\lib\\site-packages\\sklearn\\metrics\\_classification.py:1318: UndefinedMetricWarning: Precision and F-score are ill-defined and being set to 0.0 in labels with no predicted samples. Use `zero_division` parameter to control this behavior.\n",
      "  _warn_prf(average, modifier, msg_start, len(result))\n"
     ]
    }
   ],
   "source": [
    "# IT\n",
    "print(\"Confusion Matrix:\\n\", metrics.confusion_matrix(y_Itest, y_Ipredrf))\n",
    "print(\"Classification Report:\\n\",classification_report(y_Itest, y_Ipredrf))\n"
   ]
  },
  {
   "cell_type": "code",
   "execution_count": 166,
   "metadata": {},
   "outputs": [
    {
     "name": "stdout",
     "output_type": "stream",
     "text": [
      "Confusion Matrix:\n",
      " [[323   0]\n",
      " [ 79   0]]\n",
      "Classification Report:\n",
      "               precision    recall  f1-score   support\n",
      "\n",
      "           0       0.80      1.00      0.89       323\n",
      "           1       0.00      0.00      0.00        79\n",
      "\n",
      "    accuracy                           0.80       402\n",
      "   macro avg       0.40      0.50      0.45       402\n",
      "weighted avg       0.65      0.80      0.72       402\n",
      "\n"
     ]
    },
    {
     "name": "stderr",
     "output_type": "stream",
     "text": [
      "C:\\Users\\14027\\OneDrive\\Attachments\\lib\\site-packages\\sklearn\\metrics\\_classification.py:1318: UndefinedMetricWarning: Precision and F-score are ill-defined and being set to 0.0 in labels with no predicted samples. Use `zero_division` parameter to control this behavior.\n",
      "  _warn_prf(average, modifier, msg_start, len(result))\n",
      "C:\\Users\\14027\\OneDrive\\Attachments\\lib\\site-packages\\sklearn\\metrics\\_classification.py:1318: UndefinedMetricWarning: Precision and F-score are ill-defined and being set to 0.0 in labels with no predicted samples. Use `zero_division` parameter to control this behavior.\n",
      "  _warn_prf(average, modifier, msg_start, len(result))\n",
      "C:\\Users\\14027\\OneDrive\\Attachments\\lib\\site-packages\\sklearn\\metrics\\_classification.py:1318: UndefinedMetricWarning: Precision and F-score are ill-defined and being set to 0.0 in labels with no predicted samples. Use `zero_division` parameter to control this behavior.\n",
      "  _warn_prf(average, modifier, msg_start, len(result))\n"
     ]
    }
   ],
   "source": [
    "#Sales \n",
    "print(\"Confusion Matrix:\\n\", metrics.confusion_matrix(y_Stest, y_Spredrf))\n",
    "print(\"Classification Report:\\n\",classification_report(y_Stest, y_Spredrf))\n"
   ]
  },
  {
   "cell_type": "code",
   "execution_count": 167,
   "metadata": {},
   "outputs": [
    {
     "name": "stdout",
     "output_type": "stream",
     "text": [
      "Confusion Matrix:\n",
      " [[339   0]\n",
      " [ 88   0]]\n",
      "Classification Report:\n",
      "               precision    recall  f1-score   support\n",
      "\n",
      "           0       0.79      1.00      0.89       339\n",
      "           1       0.00      0.00      0.00        88\n",
      "\n",
      "    accuracy                           0.79       427\n",
      "   macro avg       0.40      0.50      0.44       427\n",
      "weighted avg       0.63      0.79      0.70       427\n",
      "\n"
     ]
    },
    {
     "name": "stderr",
     "output_type": "stream",
     "text": [
      "C:\\Users\\14027\\OneDrive\\Attachments\\lib\\site-packages\\sklearn\\metrics\\_classification.py:1318: UndefinedMetricWarning: Precision and F-score are ill-defined and being set to 0.0 in labels with no predicted samples. Use `zero_division` parameter to control this behavior.\n",
      "  _warn_prf(average, modifier, msg_start, len(result))\n",
      "C:\\Users\\14027\\OneDrive\\Attachments\\lib\\site-packages\\sklearn\\metrics\\_classification.py:1318: UndefinedMetricWarning: Precision and F-score are ill-defined and being set to 0.0 in labels with no predicted samples. Use `zero_division` parameter to control this behavior.\n",
      "  _warn_prf(average, modifier, msg_start, len(result))\n",
      "C:\\Users\\14027\\OneDrive\\Attachments\\lib\\site-packages\\sklearn\\metrics\\_classification.py:1318: UndefinedMetricWarning: Precision and F-score are ill-defined and being set to 0.0 in labels with no predicted samples. Use `zero_division` parameter to control this behavior.\n",
      "  _warn_prf(average, modifier, msg_start, len(result))\n"
     ]
    }
   ],
   "source": [
    "# Marketing\n",
    "print(\"Confusion Matrix:\\n\", metrics.confusion_matrix(y_Mtest, y_Mpredrf))\n",
    "print(\"Classification Report:\\n\",classification_report(y_Mtest, y_Mpredrf))\n"
   ]
  },
  {
   "cell_type": "code",
   "execution_count": 177,
   "metadata": {},
   "outputs": [
    {
     "name": "stdout",
     "output_type": "stream",
     "text": [
      "\n",
      "Training and evaluating model for dataset 'Full'\n",
      "Dataset Full - Feature: Job_Level, Score: 0.03212\n",
      "Dataset Full - Feature: Monthly_Income, Score: 0.08201\n",
      "Dataset Full - Feature: Hourly_Rate, Score: 0.07087\n",
      "Dataset Full - Feature: Years_at_Company, Score: 0.06190\n",
      "Dataset Full - Feature: Years_in_Current_Role, Score: 0.05571\n",
      "Dataset Full - Feature: Years_Since_Last_Promotion, Score: 0.04254\n",
      "Dataset Full - Feature: Work_Life_Balance, Score: 0.02827\n",
      "Dataset Full - Feature: Job_Satisfaction, Score: 0.03209\n",
      "Dataset Full - Feature: Performance_Rating, Score: 0.02534\n",
      "Dataset Full - Feature: Training_Hours_Last_Year, Score: 0.07061\n",
      "Dataset Full - Feature: Project_Count, Score: 0.04718\n",
      "Dataset Full - Feature: Average_Hours_Worked_Per_Week, Score: 0.06399\n",
      "Dataset Full - Feature: Absenteeism, Score: 0.05683\n",
      "Dataset Full - Feature: Work_Environment_Satisfaction, Score: 0.02888\n",
      "Dataset Full - Feature: Relationship_with_Manager, Score: 0.02790\n",
      "Dataset Full - Feature: Job_Involvement, Score: 0.02802\n",
      "Dataset Full - Feature: Distance_From_Home, Score: 0.06457\n",
      "Dataset Full - Feature: Number_of_Companies_Worked, Score: 0.02789\n",
      "Dataset Full - Feature: Amount, Score: 0.00000\n",
      "Dataset Full - Feature: Gender_Female, Score: 0.01062\n",
      "Dataset Full - Feature: Gender_Male, Score: 0.01030\n",
      "Dataset Full - Feature: Marital_Status_Divorced, Score: 0.01227\n",
      "Dataset Full - Feature: Marital_Status_Married, Score: 0.00958\n",
      "Dataset Full - Feature: Marital_Status_Single, Score: 0.01116\n",
      "Dataset Full - Feature: Job_Role_Analyst, Score: 0.01020\n",
      "Dataset Full - Feature: Job_Role_Assistant, Score: 0.01156\n",
      "Dataset Full - Feature: Job_Role_Executive, Score: 0.00848\n",
      "Dataset Full - Feature: Job_Role_Manager, Score: 0.00843\n",
      "Dataset Full - Feature: Overtime_No, Score: 0.01011\n",
      "Dataset Full - Feature: Overtime_Yes, Score: 0.01062\n",
      "Dataset Full - Feature: Age_Group_20-29, Score: 0.00929\n",
      "Dataset Full - Feature: Age_Group_30-39, Score: 0.00939\n",
      "Dataset Full - Feature: Age_Group_40-49, Score: 0.01059\n",
      "Dataset Full - Feature: Age_Group_50-59, Score: 0.01068\n",
      "Dataset Full - Feature: Age_Group_60+, Score: 0.00000\n"
     ]
    },
    {
     "data": {
      "image/png": "[encoded data removed]",
      "text/plain": [
       "<Figure size 720x288 with 1 Axes>"
      ]
     },
     "metadata": {
      "needs_background": "light"
     },
     "output_type": "display_data"
    }
   ],
   "source": [
    "import matplotlib.pyplot as plt\n",
    "from sklearn.ensemble import RandomForestClassifier\n",
    "import matplotlib.pyplot as plt\n",
    "from sklearn.ensemble import RandomForestClassifier\n",
    "\n",
    "# List of dataset name pairs (train features and labels)\n",
    "datasets = [(\"Full\", X_train, y_train),\n",
    "#     ('F', X_Ftrain, y_Ftrain),\n",
    "#     ('H', X_Htrain, y_Htrain),\n",
    "#     ('S', X_Strain, y_Strain),\n",
    "#     ('I', X_Itrain, y_Itrain),\n",
    "#     ('M', X_Mtrain, y_Mtrain)\n",
    "]\n",
    "\n",
    "# Loop through each dataset\n",
    "for name, X_train, y_train in datasets:\n",
    "    print(f\"\\nTraining and evaluating model for dataset '{name}'\")\n",
    "\n",
    "    # Train model\n",
    "    model = RandomForestClassifier(n_estimators=100, random_state=42)\n",
    "    model.fit(X_train, y_train)\n",
    "\n",
    "    # Get feature importances\n",
    "    importance = rf.feature_importances_\n",
    "\n",
    "    # Use feature names if available\n",
    "    if hasattr(X_train, 'columns'):\n",
    "        feature_names = X_train.columns\n",
    "    else:\n",
    "        feature_names = [f'Feature {i}' for i in range(X_train.shape[1])]\n",
    "\n",
    "    # Print feature importances\n",
    "    for name_, score in zip(feature_names, importance):\n",
    "        print(f'Dataset {name} - Feature: {name_}, Score: {score:.5f}')\n",
    "\n",
    "    # Plot with feature names\n",
    "    plt.figure(figsize=(10, 4))\n",
    "    plt.bar(feature_names, importance)\n",
    "    plt.title(f'Feature Importances - Dataset {name}')\n",
    "    plt.xlabel('Feature')\n",
    "    plt.ylabel('Importance Score')\n",
    "    plt.xticks(rotation=45, ha='right')  # Rotate x labels for readability\n",
    "    plt.tight_layout()\n",
    "    plt.show()\n"
   ]
  }
 ],
 "metadata": {
  "kernelspec": {
   "display_name": "Python 3",
   "language": "python",
   "name": "python3"
  },
  "language_info": {
   "codemirror_mode": {
    "name": "ipython",
    "version": 3
   },
   "file_extension": ".py",
   "mimetype": "text/x-python",
   "name": "python",
   "nbconvert_exporter": "python",
   "pygments_lexer": "ipython3",
   "version": "3.7.4"
  }
 },
 "nbformat": 4,
 "nbformat_minor": 4
}
